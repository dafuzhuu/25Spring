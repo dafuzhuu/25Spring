{
 "cells": [
  {
   "cell_type": "markdown",
   "id": "e27964f6",
   "metadata": {},
   "source": [
    "# Numerical Linear Algebra for Financial Engineering\n",
    "## The Pre-MFE Program at Baruch College\n",
    "### Homework 4"
   ]
  },
  {
   "cell_type": "markdown",
   "id": "36801bb3",
   "metadata": {},
   "source": [
    "## Market Example from NLA Primer\n",
    "This question refers to the March 9, 2012 S\\\\&P options price data from Table 3.1 in section 3.5 of the NLA Primer.\n",
    "\n",
    "Consider a one-period market model with the following **nine securities**:\n",
    "\n",
    "$$ \\text{P1175}; \\text{P1200}; \\text{P1250}; \\text{P1350}; \\text{C1350}; \\text{C1375}; \\text{C1450}; \\text{C1550}; \\text{C1600} $$ \n",
    "\n",
    "Seven of the states of the market correspond to the midpoints between the strikes of the options above, i.e.,\n",
    "\n",
    "$$\\begin{array}{rl}\n",
    "\\omega^2:\\{S(\\tau) = 1187.50\\}; & \\omega^3:\\{S(\\tau) = 1225\\}; \\\\\n",
    "\\omega^4:\\{S(\\tau) = 1300\\}; & \\omega^5:\\{S(\\tau) = 1362.50\\}; \\\\\n",
    "\\omega^6:\\{S(\\tau) = 1412.50\\}; & \\omega^7:\\{S(\\tau) = 1500\\}; \\\\\n",
    "\\omega^8:\\{S(\\tau) = 1575\\};\\\\\n",
    "\\end{array}$$\n",
    "\n",
    "The first and last state are any possible combination of the first state being that the value\n",
    "of the index at the options maturity is $800$, $950$, $1100$, and the last state being that the value of the index at the options maturity is $1650$, $1700$, $1800$. (In other words, there are nine diﬀerent one period market models to consider.)\n",
    "\n",
    "For each of the nine one period market models, find the payoﬀ matrix $M_\\tau$ , find the\n",
    "state prices vector $Q$ and determine whether the model is arbitrage–free, and if the model\n",
    "is arbitrage–free, compute the RMS error of this model."
   ]
  },
  {
   "cell_type": "markdown",
   "id": "be579930",
   "metadata": {},
   "source": []
  },
  {
   "cell_type": "markdown",
   "id": "5cbd7619",
   "metadata": {},
   "source": [
    "## Market Example from Neftci’s Financial Engineering book\n",
    "\n",
    "This problem refers to the data from Table 11-1 on page 322 of Salih Neftci’s Financial Engineering Book.\n",
    "\n",
    "Consider the market and states from that example. We know this market is complete and arbitrage–free. Price each of the other securities in the table. For each security, let $V_{\\text{mid}}$ be the midpoint value of the Bid–Ask spread and let $V_{\\text{market}}$ be the unique market value of the security in this complete market. Report the relative errors, i.e.,\n",
    "\n",
    "$$\\frac{\\bigl|V_{\\text{market}} - V_{\\text{mid}}\\bigr|}{V_{\\text{mid}}}$$\n",
    "\n",
    "for each security, as well as the average absolute error over all the instruments.\n",
    "\n",
    "\n",
    "\n",
    "Create a new market with the following instruments:\n",
    "$$\\{1200-Call,1275–Call,1350–Call,1425–Call,1200–Put,1050–Put,950–Put,800–Put\\}$$\n",
    "There will be 8 states of the world as follows:\n",
    "$$\n",
    "\\begin{array}{rc}\n",
    "\\omega^1 & S(T) = 650\\\\ \\omega^2 & S(T) = 875\\\\ \\omega^3 & S(T) = 1000\\\\ \\omega^4 & S(T) = 1125 \\\\ \\omega^5 & S(T) = 1237.50\\\\ \\omega^6 & S(T) = 1312.50\\\\ \\omega^7 & S(T) = 1387.50\\\\ \\omega^8 & S(T) = 1500\n",
    "\\end{array}\n",
    "$$\n",
    "1. What is the payoff matrix?\n",
    "2. Are these securities non–redundant?\n",
    "3. Is the market complete?\n",
    "4. Is the market arbitrage–free?\n",
    "5. Price all the other instruments in the market using the values of the eight securities above. Compute for each security the relative approximation error as above, as well as the overall average approximation error. Comment on the results."
   ]
  },
  {
   "cell_type": "markdown",
   "id": "21bb5c13",
   "metadata": {},
   "source": []
  }
 ],
 "metadata": {
  "kernelspec": {
   "display_name": "Python 3 (ipykernel)",
   "language": "python",
   "name": "python3"
  },
  "language_info": {
   "codemirror_mode": {
    "name": "ipython",
    "version": 3
   },
   "file_extension": ".py",
   "mimetype": "text/x-python",
   "name": "python",
   "nbconvert_exporter": "python",
   "pygments_lexer": "ipython3",
   "version": "3.10.9"
  }
 },
 "nbformat": 4,
 "nbformat_minor": 5
}
