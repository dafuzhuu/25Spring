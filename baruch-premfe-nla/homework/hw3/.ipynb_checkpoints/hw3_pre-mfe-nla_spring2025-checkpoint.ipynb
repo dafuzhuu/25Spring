{
 "cells": [
  {
   "cell_type": "markdown",
   "id": "0e541f94",
   "metadata": {},
   "source": [
    "# <center>NLA Homework 3</center>\n",
    "\n",
    "### <center>Group O</center>\n",
    "\n",
    "### <center>Dafu Zhu, Jiawei Ni</center>"
   ]
  },
  {
   "cell_type": "markdown",
   "id": "41c61982",
   "metadata": {},
   "source": [
    "## Question 1\n",
    "The LU decomposition with row pivoting of the matrix\n",
    "\n",
    "$$\n",
    "A=\\left(\\begin{array}{cccc}\n",
    "2 & -1 & 0 & 1 \\\\\n",
    "-2 & 0 & 1 & -1 \\\\\n",
    "4 & -1 & 0 & 1 \\\\\n",
    "4 & -3 & 0 & 2\n",
    "\\end{array}\\right)\n",
    "$$\n",
    "\n",
    "\n",
    "is given by $P A=L U$, where\n",
    "\n",
    "$$\n",
    "P=\\left(\\begin{array}{cccc}\n",
    "0 & 0 & 1 & 0 \\\\\n",
    "0 & 0 & 0 & 1 \\\\\n",
    "0 & 1 & 0 & 0 \\\\\n",
    "1 & 0 & 0 & 0\n",
    "\\end{array}\\right) ; \\quad L=\\left(\\begin{array}{cccc}\n",
    "1 & 0 & 0 & 0 \\\\\n",
    "1 & 1 & 0 & 0 \\\\\n",
    "-0.5 & 0.25 & 1 & 0 \\\\\n",
    "0.5 & 0.25 & 0 & 1\n",
    "\\end{array}\\right) ; \\quad U=\\left(\\begin{array}{cccc}\n",
    "4 & -1 & 0 & 1 \\\\\n",
    "0 & -2 & 0 & 1 \\\\\n",
    "0 & 0 & 1 & -0.75 \\\\\n",
    "0 & 0 & 0 & 0.25\n",
    "\\end{array}\\right)\n",
    "$$"
   ]
  },
  {
   "cell_type": "markdown",
   "id": "714527bb",
   "metadata": {},
   "source": [
    "(i) Solve $A x=b$, where\n",
    "\n",
    "$$\n",
    "b=\\left(\\begin{array}{c}\n",
    "3 \\\\\n",
    "-1 \\\\\n",
    "0 \\\\\n",
    "2\n",
    "\\end{array}\\right)\n",
    "$$"
   ]
  },
  {
   "cell_type": "markdown",
   "id": "937a94ad",
   "metadata": {},
   "source": [
    "*Solution*"
   ]
  },
  {
   "cell_type": "code",
   "execution_count": 1,
   "id": "c901181c",
   "metadata": {},
   "outputs": [],
   "source": [
    "import numpy as np\n",
    "import pandas as pd\n",
    "import copy\n",
    "import sys\n",
    "import os\n",
    "sys.path.append(os.path.abspath(os.path.join(os.getcwd(), \"..\")))\n",
    "from nla import func # my own package based on previous homeworks\n",
    "np.set_printoptions(suppress=True, precision=6)\n",
    "\n",
    "def lu_row_pivoting(A): #@save\n",
    "    \"\"\"\n",
    "    LU decomposition with row pivoting\n",
    "    input: A(np.array)\n",
    "    output: P, L, U\n",
    "    \"\"\"\n",
    "    AA = copy.deepcopy(A).astype(float)  # precision issue\n",
    "                                         # debugged for a long time \n",
    "    n = AA.shape[0]\n",
    "    # initialize\n",
    "    P, L = np.eye(n), np.eye(n)\n",
    "    U = np.eye(n)\n",
    "    for i in range(0, n-1):\n",
    "        i_max = np.argmax(np.abs(AA[i:n, i])) + i\n",
    "        # switch rows i and i_max of A\n",
    "        vv = copy.deepcopy(AA[i, i:n])\n",
    "        AA[i, i:n] = AA[i_max, i:n]\n",
    "        AA[i_max, i:n] = vv\n",
    "        # update matrix P\n",
    "        cc = copy.deepcopy(P[i])\n",
    "        P[i] = P[i_max]\n",
    "        P[i_max] = cc\n",
    "        if i > 0:\n",
    "            ww = copy.deepcopy(L[i, 0:i])\n",
    "            L[i, 0:i] = L[i_max, 0:i]\n",
    "            L[i_max, 0:i] = ww\n",
    "        for j in range(i, n):\n",
    "            L[j, i] = AA[j, i] / AA[i, i]\n",
    "            U[i, j] = AA[i, j]\n",
    "        for j in range(i+1, n):\n",
    "            for k in range(i+1, n):\n",
    "                AA[j, k] = AA[j, k] - (L[j, i] * U[i, k])\n",
    "    L[n-1, n-1] = 1\n",
    "    U[n-1, n-1] = AA[n-1, n-1]\n",
    "    return P, L, U"
   ]
  },
  {
   "cell_type": "code",
   "execution_count": 3,
   "id": "70f04f82",
   "metadata": {},
   "outputs": [],
   "source": [
    "def linear_solve_lu_row_pivoting(A, b): #@save\n",
    "    \"\"\"\n",
    "    Linear solver using LU decomposition with row pivoting\n",
    "    input: A(np.array), b(np.array)\n",
    "    output: x\n",
    "    \"\"\"\n",
    "    P, L, U = lu_row_pivoting(A)\n",
    "    y = func.forward_subset(L, P@b)\n",
    "    x = func.backward_subset(U, y)\n",
    "    return x"
   ]
  },
  {
   "cell_type": "code",
   "execution_count": 5,
   "id": "9b2d8a59",
   "metadata": {},
   "outputs": [
    {
     "data": {
      "text/plain": [
       "[-1.5, 4.0, 6.0, 10.0]"
      ]
     },
     "execution_count": 5,
     "metadata": {},
     "output_type": "execute_result"
    }
   ],
   "source": [
    "A = np.array([\n",
    "    [2,-1,0,1],\n",
    "    [-2,0,1,-1],\n",
    "    [4,-1,0,1],\n",
    "    [4,-3,0,2]\n",
    "])\n",
    "b = np.array([3,-1,0,2])\n",
    "x = linear_solve_lu_row_pivoting(A, b)\n",
    "x"
   ]
  },
  {
   "cell_type": "markdown",
   "id": "2f0d39be",
   "metadata": {},
   "source": [
    "$$\n",
    "\\therefore \\quad x = \\begin{pmatrix}\n",
    "-1.5\\\\\n",
    "4\\\\\n",
    "6\\\\\n",
    "10\n",
    "\\end{pmatrix}\n",
    "$$"
   ]
  },
  {
   "cell_type": "markdown",
   "id": "cc10649d",
   "metadata": {},
   "source": [
    "(ii) Find $A^{-1}$, the inverse matrix of $A$.\n"
   ]
  },
  {
   "cell_type": "markdown",
   "id": "6a8009d8",
   "metadata": {},
   "source": [
    "*Solution*"
   ]
  },
  {
   "cell_type": "code",
   "execution_count": 7,
   "id": "ebd71faa",
   "metadata": {},
   "outputs": [],
   "source": [
    "def system_solve_lu_row_pivoting(A, B): #@save\n",
    "    \"\"\"\n",
    "    input: \n",
    "    - A(np.array): nonsingular square matrix\n",
    "    - B(np.array): col vectors of size n, [b_1, b_2, ..., b_p]\n",
    "    output:\n",
    "    - X: solution to Ax_i=b_i, [x_1, ..., x_p]\n",
    "    \"\"\"\n",
    "    P, L, U = lu_row_pivoting(A)\n",
    "    p = B.shape[1]\n",
    "    X = np.zeros((B.shape[0], B.shape[1]))\n",
    "    for i in range(p):\n",
    "        b_i = B[:, i]\n",
    "        y = func.forward_subset(L, P@b_i)\n",
    "        x_i = func.backward_subset(U, y)\n",
    "        X[:, i] = x_i\n",
    "    return X"
   ]
  },
  {
   "cell_type": "markdown",
   "id": "0b6fba86",
   "metadata": {},
   "source": [
    "Solving $A^{-1}$ is equivalent to finding $X$, where $AX=B$, $B=I$. Write $I,X$ as $I=\\text{col}(e_k)_{k=1:p}$, $X=\\text{col}(x_k)_{k=1:p}$"
   ]
  },
  {
   "cell_type": "code",
   "execution_count": 9,
   "id": "30e5469a",
   "metadata": {},
   "outputs": [
    {
     "data": {
      "text/plain": [
       "array([[-0.5,  0. ,  0.5,  0. ],\n",
       "       [ 2. , -0. , -0. , -1. ],\n",
       "       [ 3. ,  1. ,  0. , -1. ],\n",
       "       [ 4. ,  0. , -1. , -1. ]])"
      ]
     },
     "execution_count": 9,
     "metadata": {},
     "output_type": "execute_result"
    }
   ],
   "source": [
    "B = np.eye(A.shape[0])\n",
    "X = system_solve_lu_row_pivoting(A, B)\n",
    "X"
   ]
  },
  {
   "cell_type": "markdown",
   "id": "4e665adb",
   "metadata": {},
   "source": [
    "$$\n",
    "\\therefore \\quad A^{-1}=\\begin{pmatrix}\n",
    "-0.5 & 0 & 0.5 & 0\\\\\n",
    "2 & 0 & 0 & -1\\\\\n",
    "3 & 1 & 0 & -1\\\\\n",
    "4 & 0 & -1 & -1\n",
    "\\end{pmatrix}\n",
    "$$"
   ]
  },
  {
   "cell_type": "markdown",
   "id": "292cfdaa",
   "metadata": {},
   "source": [
    "## Question 2\n",
    "The following discount factors are obtained by fitting market data:\n",
    "\n",
    "$$\n",
    "\\begin{array}{cc}\n",
    "\\text{Date} & \\text{Discount Factor} \\\\\n",
    "2 \\text{ months} & 0.9980 \\\\\n",
    "5 \\text{ months} & 0.9935 \\\\\n",
    "11 \\text{ months} & 0.9820 \\\\\n",
    "15 \\text{ months} & 0.9775 \\\\\n",
    "\\end{array}\n",
    "$$\n",
    "\n",
    "The overnight rate is 1%."
   ]
  },
  {
   "cell_type": "markdown",
   "id": "4ecbb8a6",
   "metadata": {},
   "source": [
    "(i) What is the linear system that has to be solved for the cubic spline interpolation of the zero rate curve?\n"
   ]
  },
  {
   "cell_type": "markdown",
   "id": "d9d21bee",
   "metadata": {},
   "source": [
    "*Solution*\n",
    "\n",
    "Find out the zero rates by discount factors\n",
    "\n",
    "$$\n",
    "\\text{Disc}(t)=\\exp(-t\\cdot r(0,t))\n",
    "$$\n",
    "\n",
    "Therefore\n",
    "\n",
    "$$\n",
    "r(0,t)=-\\frac{1}{t}\\ln(\\text{Disc}(t))\n",
    "$$"
   ]
  },
  {
   "cell_type": "code",
   "execution_count": 34,
   "id": "00cff3e0",
   "metadata": {},
   "outputs": [
    {
     "data": {
      "text/plain": [
       "array([0.012012, 0.015651, 0.019815, 0.018206])"
      ]
     },
     "execution_count": 34,
     "metadata": {},
     "output_type": "execute_result"
    }
   ],
   "source": [
    "disc = np.array([0.998,0.9935,0.982,0.9775])\n",
    "t = np.array([2/12,5/12,11/12,15/12])\n",
    "r = -1/t * np.log(disc)\n",
    "r"
   ]
  },
  {
   "cell_type": "markdown",
   "id": "c8ee71c0",
   "metadata": {},
   "source": [
    "Together with the overnight rate of 0.01, i.e. $r(0,0)=0.01$, we have\n",
    "$$\n",
    "v=[0.01,0.012012 , 0.015651, 0.019815, 0.018206]\n",
    "$$"
   ]
  },
  {
   "cell_type": "code",
   "execution_count": 37,
   "id": "7d97e8be",
   "metadata": {},
   "outputs": [],
   "source": [
    "x = np.array([0, 2/12, 5/12, 11/12, 15/12])\n",
    "v = np.array([0.01, 0.012012, 0.015651, 0.019815, 0.018206])"
   ]
  },
  {
   "cell_type": "markdown",
   "id": "3de9642c",
   "metadata": {},
   "source": [
    "<a href=\"https://sm.ms/image/3terkzsRhnUHCPT\" target=\"_blank\"><img src=\"https://s2.loli.net/2025/03/10/3terkzsRhnUHCPT.jpg\" width=800 /></a>"
   ]
  },
  {
   "cell_type": "code",
   "execution_count": 39,
   "id": "8c0f8559",
   "metadata": {},
   "outputs": [],
   "source": [
    "def cubic_spline_interpolate(x, v): #@save\n",
    "    \"\"\"\n",
    "    input:\n",
    "    - x: interpolation nodes, i=0:n\n",
    "    - v: interpolation values, i=0:n\n",
    "    output:\n",
    "    - b_bar, M_bar: linear system\n",
    "    - coef: list([[a1,b1,c1,d1],[a2,b2,...],...])\n",
    "    \"\"\"\n",
    "    n = len(x) - 1\n",
    "    coef = []\n",
    "    # compute vector b_bar\n",
    "    b_bar = np.zeros(4*n)\n",
    "    b_bar[0], b_bar[4*n-1] = 0, 0\n",
    "    for i in range(1, n+1):\n",
    "        b_bar[4*i-3] = v[i-1]\n",
    "        b_bar[4*i-2] = v[i]\n",
    "    for i in range(1, n):\n",
    "        b_bar[4*i-1] = 0\n",
    "        b_bar[4*i] = 0\n",
    "    # compute matrix M_bar\n",
    "    M_bar = np.zeros((4*n, 4*n))\n",
    "    M_bar[0,2], M_bar[0,3] = 2, 6*x[0]\n",
    "    M_bar[4*n-1,4*n-2], M_bar[4*n-1,4*n-1] = 2, 6*x[-1]\n",
    "    for i in range(1, n+1):\n",
    "        # f(x)\n",
    "        M_bar[4*i-3,4*i-4] = 1\n",
    "        M_bar[4*i-3,4*i-3] = x[i-1]\n",
    "        M_bar[4*i-3,4*i-2] = x[i-1] ** 2\n",
    "        M_bar[4*i-3,4*i-1] = x[i-1] ** 3\n",
    "        M_bar[4*i-2,4*i-4] = 1\n",
    "        M_bar[4*i-2,4*i-3] = x[i]\n",
    "        M_bar[4*i-2,4*i-2] = x[i] ** 2\n",
    "        M_bar[4*i-2,4*i-1] = x[i] ** 3\n",
    "    for i in range(1, n):\n",
    "        # f'(x)\n",
    "        M_bar[4*i-1,4*i-3] = 1\n",
    "        M_bar[4*i-1,4*i-2] = 2 * x[i]\n",
    "        M_bar[4*i-1,4*i-1] = 3 * (x[i] ** 2)\n",
    "        M_bar[4*i-1,4*i+1] = -1\n",
    "        M_bar[4*i-1,4*i+2] = -2 * x[i]\n",
    "        M_bar[4*i-1,4*i+3] = -3 * (x[i] ** 2)\n",
    "        # f''(x)\n",
    "        M_bar[4*i,4*i-2] = 2\n",
    "        M_bar[4*i,4*i-1] = 6 * x[i]\n",
    "        M_bar[4*i,4*i+2] = -2\n",
    "        M_bar[4*i,4*i+3] = -6 * x[i]\n",
    "    x_bar = linear_solve_lu_row_pivoting(M_bar, b_bar)\n",
    "    for i in range(1,n+1):\n",
    "        coef.append(x_bar[4*i-4:4*i])\n",
    "    return b_bar, M_bar, coef"
   ]
  },
  {
   "cell_type": "code",
   "execution_count": 41,
   "id": "69f63130",
   "metadata": {},
   "outputs": [],
   "source": [
    "b_bar, M_bar, coef = cubic_spline_interpolate(x, v)"
   ]
  },
  {
   "cell_type": "code",
   "execution_count": 43,
   "id": "1b7525f6",
   "metadata": {},
   "outputs": [
    {
     "data": {
      "text/html": [
       "<div>\n",
       "<style scoped>\n",
       "    .dataframe tbody tr th:only-of-type {\n",
       "        vertical-align: middle;\n",
       "    }\n",
       "\n",
       "    .dataframe tbody tr th {\n",
       "        vertical-align: top;\n",
       "    }\n",
       "\n",
       "    .dataframe thead th {\n",
       "        text-align: right;\n",
       "    }\n",
       "</style>\n",
       "<table border=\"1\" class=\"dataframe\">\n",
       "  <thead>\n",
       "    <tr style=\"text-align: right;\">\n",
       "      <th></th>\n",
       "      <th>0</th>\n",
       "      <th>1</th>\n",
       "      <th>2</th>\n",
       "      <th>3</th>\n",
       "      <th>4</th>\n",
       "      <th>5</th>\n",
       "      <th>6</th>\n",
       "      <th>7</th>\n",
       "      <th>8</th>\n",
       "      <th>9</th>\n",
       "      <th>10</th>\n",
       "      <th>11</th>\n",
       "      <th>12</th>\n",
       "      <th>13</th>\n",
       "      <th>14</th>\n",
       "      <th>15</th>\n",
       "    </tr>\n",
       "  </thead>\n",
       "  <tbody>\n",
       "    <tr>\n",
       "      <th>0</th>\n",
       "      <td>0.0</td>\n",
       "      <td>0.000000</td>\n",
       "      <td>2.000000</td>\n",
       "      <td>0.000000</td>\n",
       "      <td>0.0</td>\n",
       "      <td>0.000000</td>\n",
       "      <td>0.000000</td>\n",
       "      <td>0.000000</td>\n",
       "      <td>0.0</td>\n",
       "      <td>0.000000</td>\n",
       "      <td>0.000000</td>\n",
       "      <td>0.000000</td>\n",
       "      <td>0.0</td>\n",
       "      <td>0.000000</td>\n",
       "      <td>0.000000</td>\n",
       "      <td>0.000000</td>\n",
       "    </tr>\n",
       "    <tr>\n",
       "      <th>1</th>\n",
       "      <td>1.0</td>\n",
       "      <td>0.000000</td>\n",
       "      <td>0.000000</td>\n",
       "      <td>0.000000</td>\n",
       "      <td>0.0</td>\n",
       "      <td>0.000000</td>\n",
       "      <td>0.000000</td>\n",
       "      <td>0.000000</td>\n",
       "      <td>0.0</td>\n",
       "      <td>0.000000</td>\n",
       "      <td>0.000000</td>\n",
       "      <td>0.000000</td>\n",
       "      <td>0.0</td>\n",
       "      <td>0.000000</td>\n",
       "      <td>0.000000</td>\n",
       "      <td>0.000000</td>\n",
       "    </tr>\n",
       "    <tr>\n",
       "      <th>2</th>\n",
       "      <td>1.0</td>\n",
       "      <td>0.166667</td>\n",
       "      <td>0.027778</td>\n",
       "      <td>0.004630</td>\n",
       "      <td>0.0</td>\n",
       "      <td>0.000000</td>\n",
       "      <td>0.000000</td>\n",
       "      <td>0.000000</td>\n",
       "      <td>0.0</td>\n",
       "      <td>0.000000</td>\n",
       "      <td>0.000000</td>\n",
       "      <td>0.000000</td>\n",
       "      <td>0.0</td>\n",
       "      <td>0.000000</td>\n",
       "      <td>0.000000</td>\n",
       "      <td>0.000000</td>\n",
       "    </tr>\n",
       "    <tr>\n",
       "      <th>3</th>\n",
       "      <td>0.0</td>\n",
       "      <td>1.000000</td>\n",
       "      <td>0.333333</td>\n",
       "      <td>0.083333</td>\n",
       "      <td>0.0</td>\n",
       "      <td>-1.000000</td>\n",
       "      <td>-0.333333</td>\n",
       "      <td>-0.083333</td>\n",
       "      <td>0.0</td>\n",
       "      <td>0.000000</td>\n",
       "      <td>0.000000</td>\n",
       "      <td>0.000000</td>\n",
       "      <td>0.0</td>\n",
       "      <td>0.000000</td>\n",
       "      <td>0.000000</td>\n",
       "      <td>0.000000</td>\n",
       "    </tr>\n",
       "    <tr>\n",
       "      <th>4</th>\n",
       "      <td>0.0</td>\n",
       "      <td>0.000000</td>\n",
       "      <td>2.000000</td>\n",
       "      <td>1.000000</td>\n",
       "      <td>0.0</td>\n",
       "      <td>0.000000</td>\n",
       "      <td>-2.000000</td>\n",
       "      <td>-1.000000</td>\n",
       "      <td>0.0</td>\n",
       "      <td>0.000000</td>\n",
       "      <td>0.000000</td>\n",
       "      <td>0.000000</td>\n",
       "      <td>0.0</td>\n",
       "      <td>0.000000</td>\n",
       "      <td>0.000000</td>\n",
       "      <td>0.000000</td>\n",
       "    </tr>\n",
       "    <tr>\n",
       "      <th>5</th>\n",
       "      <td>0.0</td>\n",
       "      <td>0.000000</td>\n",
       "      <td>0.000000</td>\n",
       "      <td>0.000000</td>\n",
       "      <td>1.0</td>\n",
       "      <td>0.166667</td>\n",
       "      <td>0.027778</td>\n",
       "      <td>0.004630</td>\n",
       "      <td>0.0</td>\n",
       "      <td>0.000000</td>\n",
       "      <td>0.000000</td>\n",
       "      <td>0.000000</td>\n",
       "      <td>0.0</td>\n",
       "      <td>0.000000</td>\n",
       "      <td>0.000000</td>\n",
       "      <td>0.000000</td>\n",
       "    </tr>\n",
       "    <tr>\n",
       "      <th>6</th>\n",
       "      <td>0.0</td>\n",
       "      <td>0.000000</td>\n",
       "      <td>0.000000</td>\n",
       "      <td>0.000000</td>\n",
       "      <td>1.0</td>\n",
       "      <td>0.416667</td>\n",
       "      <td>0.173611</td>\n",
       "      <td>0.072338</td>\n",
       "      <td>0.0</td>\n",
       "      <td>0.000000</td>\n",
       "      <td>0.000000</td>\n",
       "      <td>0.000000</td>\n",
       "      <td>0.0</td>\n",
       "      <td>0.000000</td>\n",
       "      <td>0.000000</td>\n",
       "      <td>0.000000</td>\n",
       "    </tr>\n",
       "    <tr>\n",
       "      <th>7</th>\n",
       "      <td>0.0</td>\n",
       "      <td>0.000000</td>\n",
       "      <td>0.000000</td>\n",
       "      <td>0.000000</td>\n",
       "      <td>0.0</td>\n",
       "      <td>1.000000</td>\n",
       "      <td>0.833333</td>\n",
       "      <td>0.520833</td>\n",
       "      <td>0.0</td>\n",
       "      <td>-1.000000</td>\n",
       "      <td>-0.833333</td>\n",
       "      <td>-0.520833</td>\n",
       "      <td>0.0</td>\n",
       "      <td>0.000000</td>\n",
       "      <td>0.000000</td>\n",
       "      <td>0.000000</td>\n",
       "    </tr>\n",
       "    <tr>\n",
       "      <th>8</th>\n",
       "      <td>0.0</td>\n",
       "      <td>0.000000</td>\n",
       "      <td>0.000000</td>\n",
       "      <td>0.000000</td>\n",
       "      <td>0.0</td>\n",
       "      <td>0.000000</td>\n",
       "      <td>2.000000</td>\n",
       "      <td>2.500000</td>\n",
       "      <td>0.0</td>\n",
       "      <td>0.000000</td>\n",
       "      <td>-2.000000</td>\n",
       "      <td>-2.500000</td>\n",
       "      <td>0.0</td>\n",
       "      <td>0.000000</td>\n",
       "      <td>0.000000</td>\n",
       "      <td>0.000000</td>\n",
       "    </tr>\n",
       "    <tr>\n",
       "      <th>9</th>\n",
       "      <td>0.0</td>\n",
       "      <td>0.000000</td>\n",
       "      <td>0.000000</td>\n",
       "      <td>0.000000</td>\n",
       "      <td>0.0</td>\n",
       "      <td>0.000000</td>\n",
       "      <td>0.000000</td>\n",
       "      <td>0.000000</td>\n",
       "      <td>1.0</td>\n",
       "      <td>0.416667</td>\n",
       "      <td>0.173611</td>\n",
       "      <td>0.072338</td>\n",
       "      <td>0.0</td>\n",
       "      <td>0.000000</td>\n",
       "      <td>0.000000</td>\n",
       "      <td>0.000000</td>\n",
       "    </tr>\n",
       "    <tr>\n",
       "      <th>10</th>\n",
       "      <td>0.0</td>\n",
       "      <td>0.000000</td>\n",
       "      <td>0.000000</td>\n",
       "      <td>0.000000</td>\n",
       "      <td>0.0</td>\n",
       "      <td>0.000000</td>\n",
       "      <td>0.000000</td>\n",
       "      <td>0.000000</td>\n",
       "      <td>1.0</td>\n",
       "      <td>0.916667</td>\n",
       "      <td>0.840278</td>\n",
       "      <td>0.770255</td>\n",
       "      <td>0.0</td>\n",
       "      <td>0.000000</td>\n",
       "      <td>0.000000</td>\n",
       "      <td>0.000000</td>\n",
       "    </tr>\n",
       "    <tr>\n",
       "      <th>11</th>\n",
       "      <td>0.0</td>\n",
       "      <td>0.000000</td>\n",
       "      <td>0.000000</td>\n",
       "      <td>0.000000</td>\n",
       "      <td>0.0</td>\n",
       "      <td>0.000000</td>\n",
       "      <td>0.000000</td>\n",
       "      <td>0.000000</td>\n",
       "      <td>0.0</td>\n",
       "      <td>1.000000</td>\n",
       "      <td>1.833333</td>\n",
       "      <td>2.520833</td>\n",
       "      <td>0.0</td>\n",
       "      <td>-1.000000</td>\n",
       "      <td>-1.833333</td>\n",
       "      <td>-2.520833</td>\n",
       "    </tr>\n",
       "    <tr>\n",
       "      <th>12</th>\n",
       "      <td>0.0</td>\n",
       "      <td>0.000000</td>\n",
       "      <td>0.000000</td>\n",
       "      <td>0.000000</td>\n",
       "      <td>0.0</td>\n",
       "      <td>0.000000</td>\n",
       "      <td>0.000000</td>\n",
       "      <td>0.000000</td>\n",
       "      <td>0.0</td>\n",
       "      <td>0.000000</td>\n",
       "      <td>2.000000</td>\n",
       "      <td>5.500000</td>\n",
       "      <td>0.0</td>\n",
       "      <td>0.000000</td>\n",
       "      <td>-2.000000</td>\n",
       "      <td>-5.500000</td>\n",
       "    </tr>\n",
       "    <tr>\n",
       "      <th>13</th>\n",
       "      <td>0.0</td>\n",
       "      <td>0.000000</td>\n",
       "      <td>0.000000</td>\n",
       "      <td>0.000000</td>\n",
       "      <td>0.0</td>\n",
       "      <td>0.000000</td>\n",
       "      <td>0.000000</td>\n",
       "      <td>0.000000</td>\n",
       "      <td>0.0</td>\n",
       "      <td>0.000000</td>\n",
       "      <td>0.000000</td>\n",
       "      <td>0.000000</td>\n",
       "      <td>1.0</td>\n",
       "      <td>0.916667</td>\n",
       "      <td>0.840278</td>\n",
       "      <td>0.770255</td>\n",
       "    </tr>\n",
       "    <tr>\n",
       "      <th>14</th>\n",
       "      <td>0.0</td>\n",
       "      <td>0.000000</td>\n",
       "      <td>0.000000</td>\n",
       "      <td>0.000000</td>\n",
       "      <td>0.0</td>\n",
       "      <td>0.000000</td>\n",
       "      <td>0.000000</td>\n",
       "      <td>0.000000</td>\n",
       "      <td>0.0</td>\n",
       "      <td>0.000000</td>\n",
       "      <td>0.000000</td>\n",
       "      <td>0.000000</td>\n",
       "      <td>1.0</td>\n",
       "      <td>1.250000</td>\n",
       "      <td>1.562500</td>\n",
       "      <td>1.953125</td>\n",
       "    </tr>\n",
       "    <tr>\n",
       "      <th>15</th>\n",
       "      <td>0.0</td>\n",
       "      <td>0.000000</td>\n",
       "      <td>0.000000</td>\n",
       "      <td>0.000000</td>\n",
       "      <td>0.0</td>\n",
       "      <td>0.000000</td>\n",
       "      <td>0.000000</td>\n",
       "      <td>0.000000</td>\n",
       "      <td>0.0</td>\n",
       "      <td>0.000000</td>\n",
       "      <td>0.000000</td>\n",
       "      <td>0.000000</td>\n",
       "      <td>0.0</td>\n",
       "      <td>0.000000</td>\n",
       "      <td>2.000000</td>\n",
       "      <td>7.500000</td>\n",
       "    </tr>\n",
       "  </tbody>\n",
       "</table>\n",
       "</div>"
      ],
      "text/plain": [
       "     0         1         2         3    4         5         6         7    8   \\\n",
       "0   0.0  0.000000  2.000000  0.000000  0.0  0.000000  0.000000  0.000000  0.0   \n",
       "1   1.0  0.000000  0.000000  0.000000  0.0  0.000000  0.000000  0.000000  0.0   \n",
       "2   1.0  0.166667  0.027778  0.004630  0.0  0.000000  0.000000  0.000000  0.0   \n",
       "3   0.0  1.000000  0.333333  0.083333  0.0 -1.000000 -0.333333 -0.083333  0.0   \n",
       "4   0.0  0.000000  2.000000  1.000000  0.0  0.000000 -2.000000 -1.000000  0.0   \n",
       "5   0.0  0.000000  0.000000  0.000000  1.0  0.166667  0.027778  0.004630  0.0   \n",
       "6   0.0  0.000000  0.000000  0.000000  1.0  0.416667  0.173611  0.072338  0.0   \n",
       "7   0.0  0.000000  0.000000  0.000000  0.0  1.000000  0.833333  0.520833  0.0   \n",
       "8   0.0  0.000000  0.000000  0.000000  0.0  0.000000  2.000000  2.500000  0.0   \n",
       "9   0.0  0.000000  0.000000  0.000000  0.0  0.000000  0.000000  0.000000  1.0   \n",
       "10  0.0  0.000000  0.000000  0.000000  0.0  0.000000  0.000000  0.000000  1.0   \n",
       "11  0.0  0.000000  0.000000  0.000000  0.0  0.000000  0.000000  0.000000  0.0   \n",
       "12  0.0  0.000000  0.000000  0.000000  0.0  0.000000  0.000000  0.000000  0.0   \n",
       "13  0.0  0.000000  0.000000  0.000000  0.0  0.000000  0.000000  0.000000  0.0   \n",
       "14  0.0  0.000000  0.000000  0.000000  0.0  0.000000  0.000000  0.000000  0.0   \n",
       "15  0.0  0.000000  0.000000  0.000000  0.0  0.000000  0.000000  0.000000  0.0   \n",
       "\n",
       "          9         10        11   12        13        14        15  \n",
       "0   0.000000  0.000000  0.000000  0.0  0.000000  0.000000  0.000000  \n",
       "1   0.000000  0.000000  0.000000  0.0  0.000000  0.000000  0.000000  \n",
       "2   0.000000  0.000000  0.000000  0.0  0.000000  0.000000  0.000000  \n",
       "3   0.000000  0.000000  0.000000  0.0  0.000000  0.000000  0.000000  \n",
       "4   0.000000  0.000000  0.000000  0.0  0.000000  0.000000  0.000000  \n",
       "5   0.000000  0.000000  0.000000  0.0  0.000000  0.000000  0.000000  \n",
       "6   0.000000  0.000000  0.000000  0.0  0.000000  0.000000  0.000000  \n",
       "7  -1.000000 -0.833333 -0.520833  0.0  0.000000  0.000000  0.000000  \n",
       "8   0.000000 -2.000000 -2.500000  0.0  0.000000  0.000000  0.000000  \n",
       "9   0.416667  0.173611  0.072338  0.0  0.000000  0.000000  0.000000  \n",
       "10  0.916667  0.840278  0.770255  0.0  0.000000  0.000000  0.000000  \n",
       "11  1.000000  1.833333  2.520833  0.0 -1.000000 -1.833333 -2.520833  \n",
       "12  0.000000  2.000000  5.500000  0.0  0.000000 -2.000000 -5.500000  \n",
       "13  0.000000  0.000000  0.000000  1.0  0.916667  0.840278  0.770255  \n",
       "14  0.000000  0.000000  0.000000  1.0  1.250000  1.562500  1.953125  \n",
       "15  0.000000  0.000000  0.000000  0.0  0.000000  2.000000  7.500000  "
      ]
     },
     "execution_count": 43,
     "metadata": {},
     "output_type": "execute_result"
    }
   ],
   "source": [
    "pd.DataFrame(M_bar)"
   ]
  },
  {
   "cell_type": "code",
   "execution_count": 45,
   "id": "2262ca23",
   "metadata": {},
   "outputs": [
    {
     "data": {
      "text/html": [
       "<div>\n",
       "<style scoped>\n",
       "    .dataframe tbody tr th:only-of-type {\n",
       "        vertical-align: middle;\n",
       "    }\n",
       "\n",
       "    .dataframe tbody tr th {\n",
       "        vertical-align: top;\n",
       "    }\n",
       "\n",
       "    .dataframe thead th {\n",
       "        text-align: right;\n",
       "    }\n",
       "</style>\n",
       "<table border=\"1\" class=\"dataframe\">\n",
       "  <thead>\n",
       "    <tr style=\"text-align: right;\">\n",
       "      <th></th>\n",
       "      <th>0</th>\n",
       "    </tr>\n",
       "  </thead>\n",
       "  <tbody>\n",
       "    <tr>\n",
       "      <th>0</th>\n",
       "      <td>0.000000</td>\n",
       "    </tr>\n",
       "    <tr>\n",
       "      <th>1</th>\n",
       "      <td>0.010000</td>\n",
       "    </tr>\n",
       "    <tr>\n",
       "      <th>2</th>\n",
       "      <td>0.012012</td>\n",
       "    </tr>\n",
       "    <tr>\n",
       "      <th>3</th>\n",
       "      <td>0.000000</td>\n",
       "    </tr>\n",
       "    <tr>\n",
       "      <th>4</th>\n",
       "      <td>0.000000</td>\n",
       "    </tr>\n",
       "    <tr>\n",
       "      <th>5</th>\n",
       "      <td>0.012012</td>\n",
       "    </tr>\n",
       "    <tr>\n",
       "      <th>6</th>\n",
       "      <td>0.015651</td>\n",
       "    </tr>\n",
       "    <tr>\n",
       "      <th>7</th>\n",
       "      <td>0.000000</td>\n",
       "    </tr>\n",
       "    <tr>\n",
       "      <th>8</th>\n",
       "      <td>0.000000</td>\n",
       "    </tr>\n",
       "    <tr>\n",
       "      <th>9</th>\n",
       "      <td>0.015651</td>\n",
       "    </tr>\n",
       "    <tr>\n",
       "      <th>10</th>\n",
       "      <td>0.019815</td>\n",
       "    </tr>\n",
       "    <tr>\n",
       "      <th>11</th>\n",
       "      <td>0.000000</td>\n",
       "    </tr>\n",
       "    <tr>\n",
       "      <th>12</th>\n",
       "      <td>0.000000</td>\n",
       "    </tr>\n",
       "    <tr>\n",
       "      <th>13</th>\n",
       "      <td>0.019815</td>\n",
       "    </tr>\n",
       "    <tr>\n",
       "      <th>14</th>\n",
       "      <td>0.018206</td>\n",
       "    </tr>\n",
       "    <tr>\n",
       "      <th>15</th>\n",
       "      <td>0.000000</td>\n",
       "    </tr>\n",
       "  </tbody>\n",
       "</table>\n",
       "</div>"
      ],
      "text/plain": [
       "           0\n",
       "0   0.000000\n",
       "1   0.010000\n",
       "2   0.012012\n",
       "3   0.000000\n",
       "4   0.000000\n",
       "5   0.012012\n",
       "6   0.015651\n",
       "7   0.000000\n",
       "8   0.000000\n",
       "9   0.015651\n",
       "10  0.019815\n",
       "11  0.000000\n",
       "12  0.000000\n",
       "13  0.019815\n",
       "14  0.018206\n",
       "15  0.000000"
      ]
     },
     "execution_count": 45,
     "metadata": {},
     "output_type": "execute_result"
    }
   ],
   "source": [
    "pd.DataFrame(b_bar)"
   ]
  },
  {
   "cell_type": "markdown",
   "id": "3a11df6d",
   "metadata": {},
   "source": [
    "$\\overline{M}=$\n",
    "\n",
    "$$\n",
    "\\begin{pmatrix}\n",
    "0 & 0 & 2 & 0 & 0 & 0 & 0 & 0 & 0 & 0 & 0 & 0 & 0 & 0 & 0 & 0 \\\\\n",
    "1 & 0 & 0 & 0 & 0 & 0 & 0 & 0 & 0 & 0 & 0 & 0 & 0 & 0 & 0 & 0 \\\\\n",
    "1 & 0.166667 & 0.027778 & 0.00463 & 0 & 0 & 0 & 0 & 0 & 0 & 0 & 0 & 0 & 0 & 0 & 0 \\\\\n",
    "0 & 1 & 0.333333 & 0.083333 & 0 & -1 & -0.333333 & -0.083333 & 0 & 0 & 0 & 0 & 0 & 0 & 0 & 0 \\\\\n",
    "0 & 0 & 2 & 1 & 0 & 0 & -2 & -1 & 0 & 0 & 0 & 0 & 0 & 0 & 0 & 0 \\\\\n",
    "0 & 0 & 0 & 0 & 1 & 0.166667 & 0.027778 & 0.00463 & 0 & 0 & 0 & 0 & 0 & 0 & 0 & 0 \\\\\n",
    "0 & 0 & 0 & 0 & 1 & 0.416667 & 0.173611 & 0.072338 & 0 & 0 & 0 & 0 & 0 & 0 & 0 & 0 \\\\\n",
    "0 & 0 & 0 & 0 & 0 & 1 & 0.833333 & 0.520833 & 0 & -1 & -0.833333 & -0.520833 & 0 & 0 & 0 & 0 \\\\\n",
    "0 & 0 & 0 & 0 & 0 & 0 & 2 & 2.5 & 0 & 0 & -2 & -2.5 & 0 & 0 & 0 & 0 \\\\\n",
    "0 & 0 & 0 & 0 & 0 & 0 & 0 & 0 & 1 & 0.416667 & 0.173611 & 0.072338 & 0 & 0 & 0 & 0 \\\\\n",
    "0 & 0 & 0 & 0 & 0 & 0 & 0 & 0 & 1 & 0.916667 & 0.840278 & 0.770255 & 0 & 0 & 0 & 0 \\\\\n",
    "0 & 0 & 0 & 0 & 0 & 0 & 0 & 0 & 0 & 1 & 1.833333 & 2.520833 & 0 & -1 & -1.833333 & -2.520833 \\\\\n",
    "0 & 0 & 0 & 0 & 0 & 0 & 0 & 0 & 0 & 0 & 2 & 5.5 & 0 & 0 & -2 & -5.5 \\\\\n",
    "0 & 0 & 0 & 0 & 0 & 0 & 0 & 0 & 0 & 0 & 0 & 0 & 1 & 0.916667 & 0.840278 & 0.770255 \\\\\n",
    "0 & 0 & 0 & 0 & 0 & 0 & 0 & 0 & 0 & 0 & 0 & 0 & 1 & 1.25 & 1.5625 & 1.953125 \\\\\n",
    "0 & 0 & 0 & 0 & 0 & 0 & 0 & 0 & 0 & 0 & 0 & 0 & 0 & 0 & 2 & 7.5 \\\\\n",
    "\\end{pmatrix}\n",
    "$$\n",
    "\n",
    "$$\n",
    "\\overline{b}=\\begin{pmatrix}\n",
    "0 \\\\\n",
    "0.01 \\\\\n",
    "0.012012 \\\\\n",
    "0 \\\\\n",
    "0 \\\\\n",
    "0.012012 \\\\\n",
    "0.015651 \\\\\n",
    "0 \\\\\n",
    "0 \\\\\n",
    "0.015651 \\\\\n",
    "0.019815 \\\\\n",
    "0 \\\\\n",
    "0 \\\\\n",
    "0.019815 \\\\\n",
    "0.018206 \\\\\n",
    "0 \\\\\n",
    "\\end{pmatrix}, \\quad\n",
    "\\overline{x}=\\begin{pmatrix}\n",
    "a_1\\\\\n",
    "b_1\\\\\n",
    "c_1\\\\\n",
    "d_1\\\\\n",
    "a_2\\\\\n",
    "b_2\\\\\n",
    "c_2\\\\\n",
    "d_2\\\\\n",
    "a_3\\\\\n",
    "b_3\\\\\n",
    "c_3\\\\\n",
    "d_3\\\\\n",
    "a_4\\\\\n",
    "b_4\\\\\n",
    "c_4\\\\\n",
    "d_4\n",
    "\\end{pmatrix}\n",
    "$$\n",
    "\n",
    "The linear system to solve is\n",
    "$$\n",
    "\\overline{M}\\overline{x}=\\overline{b}\n",
    "$$"
   ]
  },
  {
   "cell_type": "markdown",
   "id": "3d3d360d",
   "metadata": {},
   "source": [
    "(ii) Use cubic spline interpolation to find a zero rate curve for all times less than 15 months matching the discount factors above.                "
   ]
  },
  {
   "cell_type": "markdown",
   "id": "a21375f6",
   "metadata": {},
   "source": [
    "*Solution*"
   ]
  },
  {
   "cell_type": "code",
   "execution_count": 47,
   "id": "1d308649",
   "metadata": {},
   "outputs": [
    {
     "data": {
      "text/plain": [
       "[[0.01, 0.011456, 0.0, 0.022173],\n",
       " [0.010215, 0.007585, 0.023228, -0.024283],\n",
       " [0.009153, 0.015227, 0.004886, -0.00961],\n",
       " [-0.01484, 0.09375, -0.080775, 0.02154]]"
      ]
     },
     "execution_count": 47,
     "metadata": {},
     "output_type": "execute_result"
    }
   ],
   "source": [
    "coef"
   ]
  },
  {
   "cell_type": "markdown",
   "id": "d6c1f88f",
   "metadata": {},
   "source": [
    "$$\n",
    "r(0,t)=\\begin{cases}\n",
    "0.01+ 0.011456 t+ 0.022173t^3 & \\text{if }0\\leq t\\leq \\frac{2}{12}\\\\\n",
    "0.010215+ 0.007585t+ 0.023228t^2+ -0.024283t^3 &\\text{if }\\frac{2}{12}\\leq t\\leq \\frac{5}{12}\\\\\n",
    "0.009153+ 0.015227t+ 0.004886t^2+ -0.00961t^3 &\\text{if }\\frac{5}{12}\\leq t\\leq \\frac{11}{12}\\\\\n",
    "-0.01484+ 0.09375t+ -0.080775t^2+ 0.02154t^3 &\\text{if }\\frac{11}{12}\\leq t\\leq \\frac{15}{12}\n",
    "\\end{cases}\n",
    "$$"
   ]
  },
  {
   "cell_type": "markdown",
   "id": "8312c7d6",
   "metadata": {},
   "source": [
    "(iii) Find the value of a 13 months quarterly bond with $2.5 \\%$ coupon rate.\n",
    "\n",
    "Note: A quarterly coupon bond with face value $\\$ 100$, coupon rate $C$, and maturity $T$ pays the holder of the bond a coupon payment equal to $\\frac{C}{4} \\cdot 100$ every three months, except at maturity. The final payment at maturity $T$ is equal to the face value of the bond plus one coupon payment, i.e., $100+\\frac{C}{4} 100$."
   ]
  },
  {
   "cell_type": "markdown",
   "id": "8b37f6c9",
   "metadata": {},
   "source": [
    "*Solution*\n",
    "\n",
    "<a href=\"https://sm.ms/image/rGl9QbE78DVFYcB\" target=\"_blank\"><img src=\"https://s2.loli.net/2025/03/10/rGl9QbE78DVFYcB.jpg\" width=800></a>"
   ]
  },
  {
   "cell_type": "code",
   "execution_count": 49,
   "id": "6b99da79",
   "metadata": {},
   "outputs": [],
   "source": [
    "def zero_rate_curve(t, coef, x):\n",
    "    \"\"\"\n",
    "    input:\n",
    "    - t(float): time\n",
    "    - coef(list): the result of cubic_spline_interpolate\n",
    "    - x(list): given time nodes\n",
    "    Note: len(x) should be 1 larger than len(coef)\n",
    "    output:\n",
    "    - corresponding zero rate at time t\n",
    "    \"\"\"\n",
    "    assert len(coef) == len(x) - 1, \"size not match\"\n",
    "    def _zero_rate(i, t, coef):\n",
    "        i_coef = np.array(coef[i])\n",
    "        tt = [1,t,t**2,t**3]\n",
    "        return np.sum(i_coef*tt)\n",
    "    for i in range(len(coef)):\n",
    "        if x[i] <= t <= x[i+1]:\n",
    "            return _zero_rate(i, t, coef)"
   ]
  },
  {
   "cell_type": "code",
   "execution_count": 51,
   "id": "bc045193",
   "metadata": {},
   "outputs": [
    {
     "data": {
      "text/plain": [
       "101.021659"
      ]
     },
     "execution_count": 51,
     "metadata": {},
     "output_type": "execute_result"
    }
   ],
   "source": [
    "coupon = [0.625,0.625,0.625,0.625,100.625]\n",
    "dates = [1/12, 4/12, 7/12, 10/12, 13/12]\n",
    "B = 0\n",
    "for i in range(len(coupon)):\n",
    "    t = dates[i]\n",
    "    disc_t = np.exp(-t*zero_rate_curve(t, coef, x))\n",
    "    B += coupon[i] * disc_t\n",
    "B.round(6)"
   ]
  },
  {
   "cell_type": "markdown",
   "id": "6aba4fa3",
   "metadata": {},
   "source": [
    "$\\therefore$ the value of a 13 months quarterly bond with $2.5 \\%$ coupon rate is $101.021659$"
   ]
  },
  {
   "cell_type": "markdown",
   "id": "11728bf2",
   "metadata": {},
   "source": [
    "## Question 3\n",
    "The values of the following coupon bonds with face value $\\$ 100$ are given:\n",
    "\n",
    "$$\n",
    "\\begin{array}{lcl}\n",
    "\\text{Bond Type} & \\text{Coupon Rate} & \\text{Bond Price} \\\\\n",
    "\\text{10 months semiannual} & \\text{3\\%} & \\$ 101.30 \\\\\n",
    "\\text{16 months semiannual} & \\text{4\\%} & \\$ 102.95 \\\\\n",
    "\\text{22 months annual} & \\text{6\\%} & \\$ 107.35 \\\\\n",
    "\\text{22 months semiannual} & \\text{5\\%} & \\$ 105.45 \\\\\n",
    "\\end{array}\n",
    "$$"
   ]
  },
  {
   "cell_type": "markdown",
   "id": "010e0771",
   "metadata": {},
   "source": [
    "(i) List the cash flows and cash flow dates for each bond."
   ]
  },
  {
   "cell_type": "markdown",
   "id": "ded279d0",
   "metadata": {},
   "source": [
    "<a href=\"https://sm.ms/image/RFyZ25NJ4EphP1U\" target=\"_blank\"><img src=\"https://s2.loli.net/2025/03/10/RFyZ25NJ4EphP1U.jpg\" width=800></a>"
   ]
  },
  {
   "cell_type": "markdown",
   "id": "03769d1a",
   "metadata": {},
   "source": [
    "(ii) Identify the matrix and the right hand side vector corresponding to the linear system whose solution are the 4 months, 10 months, 16 months, and 22 months discount factors."
   ]
  },
  {
   "cell_type": "markdown",
   "id": "6ca9156b",
   "metadata": {},
   "source": [
    "<a href=\"https://sm.ms/image/uCIEqWbLr1dtnfV\" target=\"_blank\"><img src=\"https://s2.loli.net/2025/03/10/uCIEqWbLr1dtnfV.jpg\" width=800></a>"
   ]
  },
  {
   "cell_type": "markdown",
   "id": "7171ed04",
   "metadata": {},
   "source": [
    "(iii) Find the 4 months, 10 months, 16 months, and 22 months discount factors."
   ]
  },
  {
   "cell_type": "code",
   "execution_count": 53,
   "id": "d66b46a3",
   "metadata": {},
   "outputs": [
    {
     "data": {
      "text/plain": [
       "[0.98604, 0.983458, 0.970696, 0.957068]"
      ]
     },
     "execution_count": 53,
     "metadata": {},
     "output_type": "execute_result"
    }
   ],
   "source": [
    "M = np.array([\n",
    "    [1.5,101.5,0,0],\n",
    "    [2,2,102,0],\n",
    "    [0,6,0,106],\n",
    "    [2.5,2.5,2.5,102.5]\n",
    "])\n",
    "b = np.array([101.3,102.95,107.35,105.45])\n",
    "x = linear_solve_lu_row_pivoting(M, b)\n",
    "x"
   ]
  },
  {
   "cell_type": "markdown",
   "id": "41d263cf",
   "metadata": {},
   "source": [
    "$$\\therefore \\quad\n",
    "\\begin{pmatrix}\n",
    "d_1\\\\d_2\\\\d_3\\\\d_4\n",
    "\\end{pmatrix}=\n",
    "\\begin{pmatrix}\n",
    "0.98604\\\\ 0.983458\\\\ 0.970696\\\\ 0.957068\n",
    "\\end{pmatrix}\n",
    "$$"
   ]
  },
  {
   "cell_type": "markdown",
   "id": "aa28983c",
   "metadata": {},
   "source": [
    "## Question 4\n",
    "Consider three assets with the following expected rates of return, standard deviations of their rates of return, and correlations of their rates of return:\n",
    "\n",
    "$$\n",
    "\\begin{aligned}\n",
    "& \\mu_{1}=0.1 ; \\quad \\sigma_{1}=0.15 ; \\quad \\rho_{1,2}=-0.25 \\\\\n",
    "& \\mu_{2}=0.15 ; \\quad \\sigma_{2}=0.3 ; \\quad \\rho_{2,3}=0.2 ; \\\\\n",
    "& \\mu_{3}=0.2 ; \\quad \\sigma_{3}=0.35 ; \\quad \\rho_{1,3}=0.3\n",
    "\\end{aligned}\n",
    "$$\n"
   ]
  },
  {
   "cell_type": "markdown",
   "id": "49b06556",
   "metadata": {},
   "source": [
    "(i) Find the covariance matrix $M$ of the rates of return of the three assets.\n"
   ]
  },
  {
   "cell_type": "markdown",
   "id": "4070547b",
   "metadata": {},
   "source": [
    "<a href=\"https://sm.ms/image/haFIueRG3lLH2Tg\" target=\"_blank\"><img src=\"https://s2.loli.net/2025/03/10/haFIueRG3lLH2Tg.jpg\" width=800></a>"
   ]
  },
  {
   "cell_type": "markdown",
   "id": "736198e7",
   "metadata": {},
   "source": [
    "(ii) A minimum variance portfolio with 16% expected rate of return can be set up by investing a percentage $w_{i}$ of the total value of the portfolio in asset $i$, with $i=1: 3$, where $w_{i}$ can be found by solving the following linear system:\n",
    "\n",
    "$$\n",
    "\\left(\\begin{array}{ccc}\n",
    "2 M & \\mathbf{1} & \\mu  \\tag{1}\\\\\n",
    "\\mathbf{1}^{t} & 0 & 0 \\\\\n",
    "\\mu^{t} & 0 & 0\n",
    "\\end{array}\\right)\n",
    "\\left(\\begin{array}{c}\n",
    "w \\\\\n",
    "\\lambda_{1} \\\\\n",
    "\\lambda_{2}\n",
    "\\end{array}\\right)=\\left(\\begin{array}{c}\n",
    "0 \\\\\n",
    "1 \\\\\n",
    "\\mu_{P}\n",
    "\\end{array}\\right)\n",
    "$$\n",
    "\n",
    "where $\\mu_{P}=0.16$,\n",
    "\n",
    "$$\n",
    "\\mu=\\left(\\begin{array}{c}\n",
    "0.1 \\\\\n",
    "0.15 \\\\\n",
    "0.2\n",
    "\\end{array}\\right) \\quad \\text { and } \\quad \\mathbf{1}=\\left(\\begin{array}{l}\n",
    "1 \\\\\n",
    "1 \\\\\n",
    "1\n",
    "\\end{array}\\right)\n",
    "$$\n",
    "\n",
    "The matrices from the $\\mathrm{LU}$ decomposition with row pivoting of the matrix on the left hand side of (1) are\n",
    "\n",
    "$$\n",
    "\\begin{aligned}\n",
    "P & =\\left(\\begin{array}{lllll}\n",
    "0 & 0 & 0 & 1 & 0 \\\\\n",
    "0 & 1 & 0 & 0 & 0 \\\\\n",
    "0 & 0 & 1 & 0 & 0 \\\\\n",
    "1 & 0 & 0 & 0 & 0 \\\\\n",
    "0 & 0 & 0 & 0 & 1\n",
    "\\end{array}\\right) ; \\\\\n",
    "L & =\\left(\\begin{array}{ccccc}\n",
    "1 & 0 & 0 & 0 & 0 \\\\\n",
    "-0.0225 & 1 & 0 & 0 & 0 \\\\\n",
    "0.0315 & 0.051852 & 1 & 0 & 0 \\\\\n",
    "0.045 & -0.333333 & 0.038067 & 1 & 0 \\\\\n",
    "0.1 & 0.246914 & 0.400056 & -0.482738 & 1\n",
    "\\end{array}\\right) ; \\\\\n",
    "U & =\\left(\\begin{array}{ccccc}\n",
    "1 & 1 & 1 & 0 & 0 \\\\\n",
    "0 & 0.2025 & 0.0645 & 1 & 0.15 \\\\\n",
    "0 & 0 & 0.210555 & 0.948148 & 0.192222 \\\\\n",
    "0 & 0 & 0 & 1.297240 & 0.142683 \\\\\n",
    "0 & 0 & 0 & 0 & -0.045059\n",
    "\\end{array}\\right)\n",
    "\\end{aligned}\n",
    "$$\n",
    "\n",
    "Find the weights of each asset in this minimum variance portfolio."
   ]
  },
  {
   "cell_type": "markdown",
   "id": "13b1a308",
   "metadata": {},
   "source": [
    "*Solution:*\n",
    "\n",
    "$$\n",
    "2M=\\begin{pmatrix}\n",
    "0.045 & -0.0225 &  0.0315\\\\\n",
    "-0.0225 &  0.18  &  0.042\\\\\n",
    "0.0315 &  0.042 &  0.245\n",
    "\\end{pmatrix}\n",
    "$$\n",
    "\n",
    "The matrix on the left hand side of (1) is\n",
    "\n",
    "$$\n",
    "\\begin{pmatrix}\n",
    "0.045 & -0.0225 &  0.0315 & 1 & 0.1\\\\\n",
    "-0.0225 &  0.18  &  0.042 & 1 & 0.15\\\\\n",
    "0.0315 &  0.042 &  0.245 & 1 & 0.2\\\\\n",
    "1&1&1&0&0\\\\\n",
    "0.1&0.15&0.2&0&0\n",
    "\\end{pmatrix}\n",
    "$$"
   ]
  },
  {
   "cell_type": "markdown",
   "id": "517b74d2",
   "metadata": {},
   "source": [
    "Now solve the linear system using `linear_solve_lu_row_pivoting`"
   ]
  },
  {
   "cell_type": "code",
   "execution_count": 55,
   "id": "8d955b96",
   "metadata": {},
   "outputs": [
    {
     "data": {
      "text/plain": [
       "[0.235075, 0.329849, 0.435076, 0.09413, -1.109912]"
      ]
     },
     "execution_count": 55,
     "metadata": {},
     "output_type": "execute_result"
    }
   ],
   "source": [
    "A = np.array([\n",
    "    [0.045 , -0.0225 ,  0.0315 , 1 ,0.1],\n",
    "    [-0.0225 ,  0.18  ,  0.042 , 1 , 0.15],\n",
    "    [0.0315 ,  0.042 , 0.245 , 1 , 0.2],\n",
    "    [1,1,1,0,0],\n",
    "    [0.1,0.15,0.2,0,0]\n",
    "])\n",
    "b = np.array([0,0,0,1,0.16])\n",
    "x = linear_solve_lu_row_pivoting(A, b)\n",
    "x"
   ]
  },
  {
   "cell_type": "markdown",
   "id": "ee290700",
   "metadata": {},
   "source": [
    "$$\n",
    "\\therefore\\quad \\omega_1=0.235075, \\omega_2=0.329849, \\omega_3=0.435076\n",
    "$$"
   ]
  },
  {
   "cell_type": "markdown",
   "id": "eaa2df48",
   "metadata": {},
   "source": [
    "(iii) Compute the standard deviation of the returns of the following portfolios with 16% expected rate of return:\n",
    "\n",
    "1. 30% invested in asset 1, 20% invested in asset 2, 50% invested in asset 3\n",
    "\n",
    "2. 50% invested in asset 1, 70% invested in asset 3, and short an amount equal to 20% of the value of the portfolio of asset 2\n"
   ]
  },
  {
   "cell_type": "markdown",
   "id": "4508983b",
   "metadata": {},
   "source": [
    "*Solution:*\n",
    "\n",
    "Denote the returns of asset 1, 2 and 3 as $r_1,r_2,r_3$, respectively\n",
    "\n",
    "The return of the portfolio can be written as\n",
    "\n",
    "$$\n",
    "r_p=\\omega_1 r_1+\\omega_2 r_2+\\omega_3 r_3\n",
    "$$\n",
    "\n",
    "The variance of portfolio's return is \n",
    "\n",
    "$$\n",
    "Var(r_p)=\\mathbf{\\omega}^T M \\mathbf{\\omega}\n",
    "$$"
   ]
  },
  {
   "cell_type": "code",
   "execution_count": 57,
   "id": "a77c650d",
   "metadata": {},
   "outputs": [],
   "source": [
    "def pf_std(w, Sigma):\n",
    "    \"\"\"\n",
    "    Calculate the standard deviation of portfolio return\n",
    "    input:\n",
    "    - w(np.array): weight vector\n",
    "    - Sigma(np.array): covariance matrix\n",
    "    \"\"\"\n",
    "    var = w.T @ Sigma @ w\n",
    "    return np.sqrt(var).round(6)"
   ]
  },
  {
   "cell_type": "code",
   "execution_count": 59,
   "id": "8c48c22f",
   "metadata": {},
   "outputs": [],
   "source": [
    "M = np.array([\n",
    "    [0.0225, -0.01125, 0.01575],\n",
    "    [-0.01125, 0.09, 0.021],\n",
    "    [0.01575, 0.021, 0.1225]\n",
    "])\n",
    "w_1 = np.array([0.3,0.2,0.5])\n",
    "w_2 = np.array([0.5,-0.2,0.7])"
   ]
  },
  {
   "cell_type": "code",
   "execution_count": 61,
   "id": "eaae2ad1",
   "metadata": {},
   "outputs": [
    {
     "data": {
      "text/plain": [
       "0.209344"
      ]
     },
     "execution_count": 61,
     "metadata": {},
     "output_type": "execute_result"
    }
   ],
   "source": [
    "pf_std(w_1, M)"
   ]
  },
  {
   "cell_type": "code",
   "execution_count": 63,
   "id": "df553a17",
   "metadata": {},
   "outputs": [
    {
     "data": {
      "text/plain": [
       "0.276848"
      ]
     },
     "execution_count": 63,
     "metadata": {},
     "output_type": "execute_result"
    }
   ],
   "source": [
    "pf_std(w_2, M)"
   ]
  },
  {
   "cell_type": "markdown",
   "id": "2c5c4ec8",
   "metadata": {},
   "source": [
    "1. $\\sigma_{p_1}=0.209344$\n",
    "2. $\\sigma_{p_2}=0.276848$"
   ]
  },
  {
   "cell_type": "markdown",
   "id": "01aa4d0e",
   "metadata": {},
   "source": [
    "## Eigenvalues and eigenvectors"
   ]
  },
  {
   "cell_type": "markdown",
   "id": "250a1e93",
   "metadata": {},
   "source": [
    "## Question 1\n",
    "Let $A$ and $B$ be square matrices of the same size. Show that if $v$ is an eigenvector of both $A$ and $B$, then $v$ is also an eigenvector of the matrix\n",
    "\n",
    "$$\n",
    "M=c_{1} A+c_{2} B\n",
    "$$\n",
    "\n",
    "where $c_{1}$ and $c_{2}$ are constants. What is the eigenvalue of $M$ corresponding to the eigenvector $v$ ?"
   ]
  },
  {
   "cell_type": "markdown",
   "id": "ece6e700",
   "metadata": {},
   "source": [
    "<a href=\"https://sm.ms/image/SuAsfFrgQLnNCGp\" target=\"_blank\"><img src=\"https://s2.loli.net/2025/03/10/SuAsfFrgQLnNCGp.jpg\" width=800></a>"
   ]
  },
  {
   "cell_type": "markdown",
   "id": "97ef7331",
   "metadata": {},
   "source": [
    "## Question 2\n",
    "Let $A$ be a square matrix such that $A^{2}=A$. Show that any eigenvalue of $A$ is either 0 or 1.\n",
    "\n",
    "Note: A matrix $A$ with the property that $A^{2}=A$ is called an idempotent matrix.\n"
   ]
  },
  {
   "cell_type": "markdown",
   "id": "f18297ed",
   "metadata": {},
   "source": [
    "<a href=\"https://sm.ms/image/6IkKL8Sh3jPFefO\" target=\"_blank\"><img src=\"https://s2.loli.net/2025/03/10/6IkKL8Sh3jPFefO.jpg\" width=800></a>"
   ]
  },
  {
   "cell_type": "markdown",
   "id": "14f8232e",
   "metadata": {},
   "source": [
    "## Question 3\n",
    "Let $A$ be a square matrix with the property that there exists a positive integer $n$ such that $A^{n}=0$. Show that any eigenvalue of $A$ must be equal to 0 .\n",
    "\n",
    "Note: A matrix $A$ with the property that $A^{n}=0$ for a positive integer $n$ is called a nilpotent matrix.\n"
   ]
  },
  {
   "cell_type": "markdown",
   "id": "575fa64b",
   "metadata": {},
   "source": [
    "<a href=\"https://sm.ms/image/kWGtpfPzLEXmnYI\" target=\"_blank\"><img src=\"https://s2.loli.net/2025/03/10/kWGtpfPzLEXmnYI.jpg\" width=800></a>"
   ]
  },
  {
   "cell_type": "markdown",
   "id": "e01ea9fd",
   "metadata": {},
   "source": [
    "## Question 4\n",
    "\n",
    "Let $v$ be a column vector of size $n$, and let $A=v v^{t}$ be an $n \\times n$ matrix.\n",
    "\n",
    "(i) How many non-zero eigenvalues does the matrix $A$ have?"
   ]
  },
  {
   "cell_type": "markdown",
   "id": "224d31b5",
   "metadata": {},
   "source": [
    "(ii) What are the eigenvalues of $A$, and what are the corresponding eigenvectors?"
   ]
  },
  {
   "cell_type": "markdown",
   "id": "061d1b89",
   "metadata": {},
   "source": [
    "<a href=\"https://sm.ms/image/ziVR385k4Xlm6nv\" target=\"_blank\"><img src=\"https://s2.loli.net/2025/03/10/ziVR385k4Xlm6nv.jpg\" width=800></a>"
   ]
  },
  {
   "cell_type": "markdown",
   "id": "15e059d8",
   "metadata": {},
   "source": [
    "## Question 5\n",
    "\n",
    "Find the eigenvalues and the eigenvectors of the $n \\times n$ matrix\n",
    "\n",
    "$$\n",
    "A=\\left(\\begin{array}{cccc}\n",
    "d & 1 & \\ldots & 1 \\\\\n",
    "1 & d & \\ldots & 1 \\\\\n",
    "\\vdots & \\vdots & \\ddots & \\vdots \\\\\n",
    "1 & 1 & \\ldots & d\n",
    "\\end{array}\\right)\n",
    "$$\n",
    "\n",
    "where $d \\in \\mathbb{R}$ is a constant.\n"
   ]
  },
  {
   "cell_type": "markdown",
   "id": "82e21fed",
   "metadata": {},
   "source": [
    "<a href=\"https://sm.ms/image/wX8WYcv7Z4dJ6nI\" target=\"_blank\"><img src=\"https://s2.loli.net/2025/03/10/wX8WYcv7Z4dJ6nI.jpg\" width=800></a>"
   ]
  },
  {
   "cell_type": "markdown",
   "id": "94cc5a95",
   "metadata": {},
   "source": [
    "## Question 6\n",
    "\n",
    "Let $\\lambda$ and $v$ be an eigenvalue and the corresponding eigenvector of the square matrix $A$ of size $n$. Let $S$ be a nonsingular matrix of size $n$. Show that $\\lambda$ is also an eigenvalue of the matrix $S^{-1} A S$. What is the corresponding eigenvector?"
   ]
  },
  {
   "cell_type": "markdown",
   "id": "c823f211",
   "metadata": {},
   "source": [
    "<a href=\"https://sm.ms/image/X9jko8nayIvDOBL\" target=\"_blank\"><img src=\"https://s2.loli.net/2025/03/10/X9jko8nayIvDOBL.jpg\" width=800></a>"
   ]
  },
  {
   "cell_type": "markdown",
   "id": "a25d7bd7",
   "metadata": {},
   "source": [
    "## Question 7\n",
    "Let $A$ be a square matrix with real entries. If $\\lambda=a+i b$ is a complex eigenvalue of $A$ (i.e., with $b \\neq 0$ ), show that $\\bar{\\lambda}=a-i b$, the complex conjugate of $\\lambda$, is also an eigenvalue of $A$."
   ]
  },
  {
   "cell_type": "markdown",
   "id": "9ea4672d",
   "metadata": {},
   "source": [
    "<a href=\"https://sm.ms/image/xh21CbrPumEdN8k\" target=\"_blank\"><img src=\"https://s2.loli.net/2025/03/10/xh21CbrPumEdN8k.jpg\" width=800></a>"
   ]
  },
  {
   "cell_type": "markdown",
   "id": "d15b3c76",
   "metadata": {},
   "source": [
    "## Question 8\n",
    "Let $A=\\left(\\begin{array}{cc}-1 & 2 \\\\ 2 & 2\\end{array}\\right)$."
   ]
  },
  {
   "cell_type": "markdown",
   "id": "efb37732",
   "metadata": {},
   "source": [
    "(i) Compute the eigenvalues and the eigenvectors of the matrix $A$."
   ]
  },
  {
   "cell_type": "markdown",
   "id": "a0daa7ca",
   "metadata": {},
   "source": [
    "(ii) What is the diagonal form of $A$ ?"
   ]
  },
  {
   "cell_type": "markdown",
   "id": "e28316c5",
   "metadata": {},
   "source": [
    "(iii) Compute $A^{12}$."
   ]
  },
  {
   "cell_type": "markdown",
   "id": "50a701a3",
   "metadata": {},
   "source": [
    "<a href=\"https://sm.ms/image/OkVoScJXxAw8GER\" target=\"_blank\"><img src=\"https://s2.loli.net/2025/03/10/OkVoScJXxAw8GER.jpg\" width=800></a>"
   ]
  },
  {
   "cell_type": "markdown",
   "id": "e8530da7",
   "metadata": {},
   "source": [
    "## Question 9\n",
    "\n",
    "Let $A=\\left(\\begin{array}{ll}a & b \\\\ c & d\\end{array}\\right)$ be a $2 \\times 2$ matrix, and let\n",
    "\n",
    "$$\n",
    "P_{A}(t)=t^{2}-(a+d) t+(a d-b c)\n",
    "$$\n",
    "\n",
    "be the characteristic polynomial associated to $A$.\n",
    "\n",
    "Show that $P_A(A) = 0$, i.e., show that\n",
    "\n",
    "$$ A^2 - (a+d)A + (ad-bc)I = 0$$\n",
    "\n",
    "Note: This is the $2 \\times 2$ case of the Cayley-Hamilton theorem which states that $P_A(A) = 0$ for any square matrix $A$."
   ]
  },
  {
   "cell_type": "markdown",
   "id": "b544da56",
   "metadata": {},
   "source": [
    "<a href=\"https://sm.ms/image/6mFSLfR9hCj3VTd\" target=\"_blank\"><img src=\"https://s2.loli.net/2025/03/10/6mFSLfR9hCj3VTd.jpg\" width=800></a>"
   ]
  },
  {
   "cell_type": "markdown",
   "id": "12b354d5",
   "metadata": {},
   "source": [
    "## Question 10\n",
    "Let $A$ be an $n \\times n$ matrix given by\n",
    "\n",
    "$$\n",
    "\\begin{aligned}\n",
    "A(i, i) & =2, \\forall i=1: n \\\\\n",
    "A(i, i-1) & =1, \\forall i=2: n \\\\\n",
    "A(j, k) & =0, \\text { otherwise. }\n",
    "\\end{aligned}\n",
    "$$\n",
    "\n",
    "Find the eigenvalues and the eigenvectors of $A$.\n"
   ]
  },
  {
   "cell_type": "markdown",
   "id": "0d321f72",
   "metadata": {},
   "source": [
    "<a href=\"https://sm.ms/image/qPvTHYEfeGLAZlU\" target=\"_blank\"><img src=\"https://s2.loli.net/2025/03/10/qPvTHYEfeGLAZlU.jpg\" width=800></a>"
   ]
  },
  {
   "cell_type": "markdown",
   "id": "4b12f639",
   "metadata": {},
   "source": [
    "## Question 11\n",
    "\n",
    "(i) Show that the eigenvalues of the matrix\n",
    "\n",
    "$$\n",
    "A=\\left(\\begin{array}{cccc}\n",
    "-16 & 6 & -6 & 0 \\\\\n",
    "-30 & 11 & -12 & 0 \\\\\n",
    "15 & -6 & 5 & 0 \\\\\n",
    "0 & 0 & 0 & -1\n",
    "\\end{array}\\right)\n",
    "$$\n",
    "\n",
    "are -1 , with multiplicity 3 , and 2 , with multiplicity 1 .\n",
    "\n",
    "Show that $\\left(\\begin{array}{c}0 \\\\ 1 \\\\ 1 \\\\ -2\\end{array}\\right),\\left(\\begin{array}{c}2 \\\\ 2 \\\\ -3 \\\\ 3\\end{array}\\right),\\left(\\begin{array}{l}0 \\\\ 0 \\\\ 0 \\\\ 1\\end{array}\\right)$ are three linearly independent eigenvectors corresponding to the eigenvalue -1 , and show that there exists only one linearly independent eigenvector of the matrix $A$ corresponding to the eigenvalue 2 , e.g., $\\left(\\begin{array}{c}1 \\\\ 2 \\\\ -1 \\\\ 0\\end{array}\\right)$.\n"
   ]
  },
  {
   "cell_type": "markdown",
   "id": "e4d36b11",
   "metadata": {},
   "source": [
    "<a href=\"https://sm.ms/image/ZPKfi6RS7UBkLIc\" target=\"_blank\"><img src=\"https://s2.loli.net/2025/03/10/ZPKfi6RS7UBkLIc.jpg\" width=800></a>"
   ]
  },
  {
   "cell_type": "markdown",
   "id": "a9106261",
   "metadata": {},
   "source": [
    "(ii) Show that the eigenvalues of the matrix\n",
    "\n",
    "$$\n",
    "B=\\left(\\begin{array}{cccc}\n",
    "10 & -20 & -32 & -26 \\\\\n",
    "18 & -41 & -68 & -54 \\\\\n",
    "-14 & 19 & 26 & 23 \\\\\n",
    "7 & 1 & 9 & 4\n",
    "\\end{array}\\right)\n",
    "$$\n",
    "\n",
    "are -1 , with multiplicity 3 , and 2 , with multiplicity 1 .\n",
    "\n",
    "Show that there exists only one linearly independent eigenvector of the matrix $B$ corresponding to the eigenvalue -1 , e.g., $\\left(\\begin{array}{c}0 \\\\ -1 \\\\ -1 \\\\ 2\\end{array}\\right)$, and show that $\\left(\\begin{array}{c}1 \\\\ 2 \\\\ -1 \\\\ 0\\end{array}\\right)$ is an eigenvector corresponding to the eigenvalue 2 ."
   ]
  },
  {
   "cell_type": "markdown",
   "id": "d1176d23",
   "metadata": {},
   "source": [
    "<a href=\"https://sm.ms/image/3XxBOkUtzRfQjFl\" target=\"_blank\"><img src=\"https://s2.loli.net/2025/03/10/3XxBOkUtzRfQjFl.jpg\" width=800></a>"
   ]
  }
 ],
 "metadata": {
  "kernelspec": {
   "display_name": "Python 3 (ipykernel)",
   "language": "python",
   "name": "python3"
  },
  "language_info": {
   "codemirror_mode": {
    "name": "ipython",
    "version": 3
   },
   "file_extension": ".py",
   "mimetype": "text/x-python",
   "name": "python",
   "nbconvert_exporter": "python",
   "pygments_lexer": "ipython3",
   "version": "3.12.3"
  }
 },
 "nbformat": 4,
 "nbformat_minor": 5
}
