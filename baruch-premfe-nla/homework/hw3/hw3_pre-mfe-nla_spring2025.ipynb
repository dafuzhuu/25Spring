{
 "cells": [
  {
   "cell_type": "markdown",
   "id": "41c61982",
   "metadata": {},
   "source": [
    "## Question 1\n",
    "The LU decomposition with row pivoting of the matrix\n",
    "\n",
    "$$\n",
    "A=\\left(\\begin{array}{cccc}\n",
    "2 & -1 & 0 & 1 \\\\\n",
    "-2 & 0 & 1 & -1 \\\\\n",
    "4 & -1 & 0 & 1 \\\\\n",
    "4 & -3 & 0 & 2\n",
    "\\end{array}\\right)\n",
    "$$\n",
    "\n",
    "\n",
    "is given by $P A=L U$, where\n",
    "\n",
    "$$\n",
    "P=\\left(\\begin{array}{cccc}\n",
    "0 & 0 & 1 & 0 \\\\\n",
    "0 & 0 & 0 & 1 \\\\\n",
    "0 & 1 & 0 & 0 \\\\\n",
    "1 & 0 & 0 & 0\n",
    "\\end{array}\\right) ; \\quad L=\\left(\\begin{array}{cccc}\n",
    "1 & 0 & 0 & 0 \\\\\n",
    "1 & 1 & 0 & 0 \\\\\n",
    "-0.5 & 0.25 & 1 & 0 \\\\\n",
    "0.5 & 0.25 & 0 & 1\n",
    "\\end{array}\\right) ; \\quad U=\\left(\\begin{array}{cccc}\n",
    "4 & -1 & 0 & 1 \\\\\n",
    "0 & -2 & 0 & 1 \\\\\n",
    "0 & 0 & 1 & -0.75 \\\\\n",
    "0 & 0 & 0 & 0.25\n",
    "\\end{array}\\right)\n",
    "$$"
   ]
  },
  {
   "cell_type": "markdown",
   "id": "714527bb",
   "metadata": {},
   "source": [
    "(i) Solve $A x=b$, where\n",
    "\n",
    "$$\n",
    "b=\\left(\\begin{array}{c}\n",
    "3 \\\\\n",
    "-1 \\\\\n",
    "0 \\\\\n",
    "2\n",
    "\\end{array}\\right)\n",
    "$$"
   ]
  },
  {
   "cell_type": "markdown",
   "id": "68d6b567",
   "metadata": {},
   "source": [
    "(ii) Find $A^{-1}$, the inverse matrix of $A$.\n"
   ]
  },
  {
   "cell_type": "markdown",
   "id": "292cfdaa",
   "metadata": {},
   "source": [
    "## Question 2\n",
    "The following discount factors are obtained by fitting market data:\n",
    "\n",
    "$$\n",
    "\\begin{array}{cc}\n",
    "\\text{Date} & \\text{Discount Factor} \\\\\n",
    "2 \\text{ months} & 0.9980 \\\\\n",
    "5 \\text{ months} & 0.9935 \\\\\n",
    "11 \\text{ months} & 0.9820 \\\\\n",
    "15 \\text{ months} & 0.9775 \\\\\n",
    "\\end{array}\n",
    "$$\n",
    "\n",
    "The overnight rate is 1%."
   ]
  },
  {
   "cell_type": "markdown",
   "id": "4ecbb8a6",
   "metadata": {},
   "source": [
    "(i) What is the linear system that has to be solved for the cubic spline interpolation of the zero rate curve?\n"
   ]
  },
  {
   "cell_type": "markdown",
   "id": "3d3d360d",
   "metadata": {},
   "source": [
    "(ii) Use cubic spline interpolation to find a zero rate curve for all times less than 15 months matching the discount factors above.                "
   ]
  },
  {
   "cell_type": "markdown",
   "id": "8312c7d6",
   "metadata": {},
   "source": [
    "(iii) Find the value of a 13 months quarterly bond with $2.5 \\%$ coupon rate.\n",
    "\n",
    "Note: A quarterly coupon bond with face value $\\$ 100$, coupon rate $C$, and maturity $T$ pays the holder of the bond a coupon payment equal to $\\frac{C}{4} \\cdot 100$ every three months, except at maturity. The final payment at maturity $T$ is equal to the face value of the bond plus one coupon payment, i.e., $100+\\frac{C}{4} 100$."
   ]
  },
  {
   "cell_type": "markdown",
   "id": "11728bf2",
   "metadata": {},
   "source": [
    "## Question 3\n",
    "The values of the following coupon bonds with face value $\\$ 100$ are given:\n",
    "\n",
    "$$\n",
    "\\begin{array}{lcl}\n",
    "\\text{Bond Type} & \\text{Coupon Rate} & \\text{Bond Price} \\\\\n",
    "\\text{10 months semiannual} & \\text{3\\%} & \\$ 101.30 \\\\\n",
    "\\text{16 months semiannual} & \\text{4\\%} & \\$ 102.95 \\\\\n",
    "\\text{22 months annual} & \\text{6\\%} & \\$ 107.35 \\\\\n",
    "\\text{22 months semiannual} & \\text{5\\%} & \\$ 105.45 \\\\\n",
    "\\end{array}\n",
    "$$"
   ]
  },
  {
   "cell_type": "markdown",
   "id": "010e0771",
   "metadata": {},
   "source": [
    "(i) List the cash flows and cash flow dates for each bond."
   ]
  },
  {
   "cell_type": "markdown",
   "id": "03769d1a",
   "metadata": {},
   "source": [
    "(ii) Identify the matrix and the right hand side vector corresponding to the linear system whose solution are the 4 months, 10 months, 16 months, and 22 months discount factors."
   ]
  },
  {
   "cell_type": "markdown",
   "id": "7171ed04",
   "metadata": {},
   "source": [
    "(iii) Find the 4 months, 10 months, 16 months, and 22 months discount factors."
   ]
  },
  {
   "cell_type": "markdown",
   "id": "aa28983c",
   "metadata": {},
   "source": [
    "## Question 4\n",
    "Consider three assets with the following expected rates of return, standard deviations of their rates of return, and correlations of their rates of return:\n",
    "\n",
    "$$\n",
    "\\begin{aligned}\n",
    "& \\mu_{1}=0.1 ; \\quad \\sigma_{1}=0.15 ; \\quad \\rho_{1,2}=-0.25 \\\\\n",
    "& \\mu_{2}=0.15 ; \\quad \\sigma_{2}=0.3 ; \\quad \\rho_{2,3}=0.2 ; \\\\\n",
    "& \\mu_{3}=0.2 ; \\quad \\sigma_{3}=0.35 ; \\quad \\rho_{1,3}=0.3\n",
    "\\end{aligned}\n",
    "$$\n"
   ]
  },
  {
   "cell_type": "markdown",
   "id": "49b06556",
   "metadata": {},
   "source": [
    "(i) Find the covariance matrix $M$ of the rates of return of the three assets.\n"
   ]
  },
  {
   "cell_type": "markdown",
   "id": "736198e7",
   "metadata": {},
   "source": [
    "(ii) A minimum variance portfolio with 16% expected rate of return can be set up by investing a percentage $w_{i}$ of the total value of the portfolio in asset $i$, with $i=1: 3$, where $w_{i}$ can be found by solving the following linear system:\n",
    "\n",
    "$$\n",
    "\\left(\\begin{array}{ccc}\n",
    "2 M & \\mathbf{1} & \\mu  \\tag{1}\\\\\n",
    "\\mathbf{1}^{t} & 0 & 0 \\\\\n",
    "\\mu^{t} & 0 & 0\n",
    "\\end{array}\\right)\n",
    "\\left(\\begin{array}{c}\n",
    "w \\\\\n",
    "\\lambda_{1} \\\\\n",
    "\\lambda_{2}\n",
    "\\end{array}\\right)=\\left(\\begin{array}{c}\n",
    "0 \\\\\n",
    "1 \\\\\n",
    "\\mu_{P}\n",
    "\\end{array}\\right)\n",
    "$$\n",
    "\n",
    "where $\\mu_{P}=0.16$,\n",
    "\n",
    "$$\n",
    "\\mu=\\left(\\begin{array}{c}\n",
    "0.1 \\\\\n",
    "0.15 \\\\\n",
    "0.2\n",
    "\\end{array}\\right) \\quad \\text { and } \\quad \\mathbf{1}=\\left(\\begin{array}{l}\n",
    "1 \\\\\n",
    "1 \\\\\n",
    "1\n",
    "\\end{array}\\right)\n",
    "$$\n",
    "\n",
    "The matrices from the $\\mathrm{LU}$ decomposition with row pivoting of the matrix on the left hand side of (1) are\n",
    "\n",
    "$$\n",
    "\\begin{aligned}\n",
    "P & =\\left(\\begin{array}{lllll}\n",
    "0 & 0 & 0 & 1 & 0 \\\\\n",
    "0 & 1 & 0 & 0 & 0 \\\\\n",
    "0 & 0 & 1 & 0 & 0 \\\\\n",
    "1 & 0 & 0 & 0 & 0 \\\\\n",
    "0 & 0 & 0 & 0 & 1\n",
    "\\end{array}\\right) ; \\\\\n",
    "L & =\\left(\\begin{array}{ccccc}\n",
    "1 & 0 & 0 & 0 & 0 \\\\\n",
    "-0.0225 & 1 & 0 & 0 & 0 \\\\\n",
    "0.0315 & 0.051852 & 1 & 0 & 0 \\\\\n",
    "0.045 & -0.333333 & 0.038067 & 1 & 0 \\\\\n",
    "0.1 & 0.246914 & 0.400056 & -0.482738 & 1\n",
    "\\end{array}\\right) ; \\\\\n",
    "U & =\\left(\\begin{array}{ccccc}\n",
    "1 & 1 & 1 & 0 & 0 \\\\\n",
    "0 & 0.2025 & 0.0645 & 1 & 0.15 \\\\\n",
    "0 & 0 & 0.210555 & 0.948148 & 0.192222 \\\\\n",
    "0 & 0 & 0 & 1.297240 & 0.142683 \\\\\n",
    "0 & 0 & 0 & 0 & -0.045059\n",
    "\\end{array}\\right)\n",
    "\\end{aligned}\n",
    "$$\n",
    "\n",
    "Find the weights of each asset in this minimum variance portfolio."
   ]
  },
  {
   "cell_type": "markdown",
   "id": "eaa2df48",
   "metadata": {},
   "source": [
    "(iii) Compute the standard deviation of the returns of the following portfolios with 16% expected rate of return:\n",
    "\n",
    "1. 30% invested in asset 1, 20% invested in asset 2, 50% invested in asset 3\n",
    "\n",
    "2. 50% invested in asset 1, 70% invested in asset 3, and short an amount equal to 20% of the value of the portfolio of asset 2\n"
   ]
  },
  {
   "cell_type": "markdown",
   "id": "01aa4d0e",
   "metadata": {},
   "source": [
    "## Eigenvalues and eigenvectors"
   ]
  },
  {
   "cell_type": "markdown",
   "id": "250a1e93",
   "metadata": {},
   "source": [
    "## Question 1\n",
    "Let $A$ and $B$ be square matrices of the same size. Show that if $v$ is an eigenvector of both $A$ and $B$, then $v$ is also an eigenvector of the matrix\n",
    "\n",
    "$$\n",
    "M=c_{1} A+c_{2} B\n",
    "$$\n",
    "\n",
    "where $c_{1}$ and $c_{2}$ are constants. What is the eigenvalue of $M$ corresponding to the eigenvector $v$ ?"
   ]
  },
  {
   "cell_type": "markdown",
   "id": "97ef7331",
   "metadata": {},
   "source": [
    "## Question 2\n",
    "Let $A$ be a square matrix such that $A^{2}=A$. Show that any eigenvalue of $A$ is either 0 or 1.\n",
    "\n",
    "Note: A matrix $A$ with the property that $A^{2}=A$ is called an idempotent matrix.\n"
   ]
  },
  {
   "cell_type": "markdown",
   "id": "14f8232e",
   "metadata": {},
   "source": [
    "## Question 3\n",
    "Let $A$ be a square matrix with the property that there exists a positive integer $n$ such that $A^{n}=0$. Show that any eigenvalue of $A$ must be equal to 0 .\n",
    "\n",
    "Note: A matrix $A$ with the property that $A^{n}=0$ for a positive integer $n$ is called a nilpotent matrix.\n"
   ]
  },
  {
   "cell_type": "markdown",
   "id": "e01ea9fd",
   "metadata": {},
   "source": [
    "## Question 4\n",
    "\n",
    "Let $v$ be a column vector of size $n$, and let $A=v v^{t}$ be an $n \\times n$ matrix.\n",
    "\n",
    "(i) How many non-zero eigenvalues does the matrix $A$ have?"
   ]
  },
  {
   "cell_type": "markdown",
   "id": "224d31b5",
   "metadata": {},
   "source": [
    "(ii) What are the eigenvalues of $A$, and what are the corresponding eigenvectors?"
   ]
  },
  {
   "cell_type": "markdown",
   "id": "15e059d8",
   "metadata": {},
   "source": [
    "## Question 5\n",
    "\n",
    "Find the eigenvalues and the eigenvectors of the $n \\times n$ matrix\n",
    "\n",
    "$$\n",
    "A=\\left(\\begin{array}{cccc}\n",
    "d & 1 & \\ldots & 1 \\\\\n",
    "1 & d & \\ldots & 1 \\\\\n",
    "\\vdots & \\vdots & \\ddots & \\vdots \\\\\n",
    "1 & 1 & \\ldots & d\n",
    "\\end{array}\\right)\n",
    "$$\n",
    "\n",
    "where $d \\in \\mathbb{R}$ is a constant.\n"
   ]
  },
  {
   "cell_type": "markdown",
   "id": "94cc5a95",
   "metadata": {},
   "source": [
    "## Question 6\n",
    "\n",
    "Let $\\lambda$ and $v$ be an eigenvalue and the corresponding eigenvector of the square matrix $A$ of size $n$. Let $S$ be a nonsingular matrix of size $n$. Show that $\\lambda$ is also an eigenvalue of the matrix $S^{-1} A S$. What is the corresponding eigenvector?"
   ]
  },
  {
   "cell_type": "markdown",
   "id": "a25d7bd7",
   "metadata": {},
   "source": [
    "## Question 7\n",
    "Let $A$ be a square matrix with real entries. If $\\lambda=a+i b$ is a complex eigenvalue of $A$ (i.e., with $b \\neq 0$ ), show that $\\bar{\\lambda}=a-i b$, the complex conjugate of $\\lambda$, is also an eigenvalue of $A$."
   ]
  },
  {
   "cell_type": "markdown",
   "id": "d15b3c76",
   "metadata": {},
   "source": [
    "## Question 8\n",
    "Let $A=\\left(\\begin{array}{cc}-1 & 2 \\\\ 2 & 2\\end{array}\\right)$."
   ]
  },
  {
   "cell_type": "markdown",
   "id": "efb37732",
   "metadata": {},
   "source": [
    "(i) Compute the eigenvalues and the eigenvectors of the matrix $A$."
   ]
  },
  {
   "cell_type": "markdown",
   "id": "a0daa7ca",
   "metadata": {},
   "source": [
    "(ii) What is the diagonal form of $A$ ?"
   ]
  },
  {
   "cell_type": "markdown",
   "id": "e28316c5",
   "metadata": {},
   "source": [
    "(iii) Compute $A^{12}$."
   ]
  },
  {
   "cell_type": "markdown",
   "id": "e8530da7",
   "metadata": {},
   "source": [
    "## Question 9\n",
    "\n",
    "Let $A=\\left(\\begin{array}{ll}a & b \\\\ c & d\\end{array}\\right)$ be a $2 \\times 2$ matrix, and let\n",
    "\n",
    "$$\n",
    "P_{A}(t)=t^{2}-(a+d) t+(a d-b c)\n",
    "$$\n",
    "\n",
    "be the characteristic polynomial associated to $A$.\n",
    "\n",
    "Show that $P_A(A) = 0$, i.e., show that\n",
    "\n",
    "$$ A^2 - (a+d)A + (ad-bc)I = 0$$\n",
    "\n",
    "Note: This is the $2 \\times 2$ case of the Cayley-Hamilton theorem which states that $P_A(A) = 0$ for any square matrix $A$."
   ]
  },
  {
   "cell_type": "markdown",
   "id": "12b354d5",
   "metadata": {},
   "source": [
    "## Question 10\n",
    "Let $A$ be an $n \\times n$ matrix given by\n",
    "\n",
    "$$\n",
    "\\begin{aligned}\n",
    "A(i, i) & =2, \\forall i=1: n \\\\\n",
    "A(i, i-1) & =1, \\forall i=2: n \\\\\n",
    "A(j, k) & =0, \\text { otherwise. }\n",
    "\\end{aligned}\n",
    "$$\n",
    "\n",
    "Find the eigenvalues and the eigenvectors of $A$.\n"
   ]
  },
  {
   "cell_type": "markdown",
   "id": "4b12f639",
   "metadata": {},
   "source": [
    "## Question 11\n",
    "\n",
    "(i) Show that the eigenvalues of the matrix\n",
    "\n",
    "$$\n",
    "A=\\left(\\begin{array}{cccc}\n",
    "-16 & 6 & -6 & 0 \\\\\n",
    "-30 & 11 & -12 & 0 \\\\\n",
    "15 & -6 & 5 & 0 \\\\\n",
    "0 & 0 & 0 & -1\n",
    "\\end{array}\\right)\n",
    "$$\n",
    "\n",
    "are -1 , with multiplicity 3 , and 2 , with multiplicity 1 .\n",
    "\n",
    "Show that $\\left(\\begin{array}{c}0 \\\\ 1 \\\\ 1 \\\\ -2\\end{array}\\right),\\left(\\begin{array}{c}2 \\\\ 2 \\\\ -3 \\\\ 3\\end{array}\\right),\\left(\\begin{array}{l}0 \\\\ 0 \\\\ 0 \\\\ 1\\end{array}\\right)$ are three linearly independent eigenvectors corresponding to the eigenvalue -1 , and show that there exists only one linearly independent eigenvector of the matrix $A$ corresponding to the eigenvalue 2 , e.g., $\\left(\\begin{array}{c}1 \\\\ 2 \\\\ -1 \\\\ 0\\end{array}\\right)$.\n"
   ]
  },
  {
   "cell_type": "markdown",
   "id": "a9106261",
   "metadata": {},
   "source": [
    "(ii) Show that the eigenvalues of the matrix\n",
    "\n",
    "$$\n",
    "B=\\left(\\begin{array}{cccc}\n",
    "10 & -20 & -32 & -26 \\\\\n",
    "18 & -41 & -68 & -54 \\\\\n",
    "-14 & 19 & 26 & 23 \\\\\n",
    "7 & 1 & 9 & 4\n",
    "\\end{array}\\right)\n",
    "$$\n",
    "\n",
    "are -1 , with multiplicity 3 , and 2 , with multiplicity 1 .\n",
    "\n",
    "Show that there exists only one linearly independent eigenvector of the matrix $B$ corresponding to the eigenvalue -1 , e.g., $\\left(\\begin{array}{c}0 \\\\ -1 \\\\ -1 \\\\ 2\\end{array}\\right)$, and show that $\\left(\\begin{array}{c}1 \\\\ 2 \\\\ -1 \\\\ 0\\end{array}\\right)$ is an eigenvector corresponding to the eigenvalue 2 ."
   ]
  },
  {
   "cell_type": "code",
   "execution_count": null,
   "id": "e07368d1",
   "metadata": {},
   "outputs": [],
   "source": [
    "import numpy as np\n",
    "import copy\n",
    "import sys\n",
    "import os\n",
    "sys.path.append(os.path.abspath(os.path.join(os.getcwd(), \"..\")))\n",
    "from nla import func # my own package based on previous homeworks\n",
    "\n",
    "def lu_row_pivoting(A): #@save\n",
    "    \"\"\"\n",
    "    LU decomposition with row pivoting\n",
    "    input: A\n",
    "    output: P, L, U\n",
    "    \"\"\"\n",
    "    AA = copy.deepcopy(A)\n",
    "    n = AA.shape[0]\n",
    "    # initialize\n",
    "    P, L = np.eye(n), np.eye(n)\n",
    "    U = np.eye(n)\n",
    "    for i in range(0, n-1):\n",
    "        i_max = np.argmax(np.abs(AA[i:n, i])) + i\n",
    "        # switch rows i and i_max of A\n",
    "        vv = copy.deepcopy(AA[i, i:n])\n",
    "        AA[i, i:n] = AA[i_max, i:n]\n",
    "        AA[i_max, i:n] = vv\n",
    "        # update matrix P\n",
    "        cc = copy.deepcopy(P[i])\n",
    "        P[i] = P[i_max]\n",
    "        P[i_max] = cc\n",
    "        if i > 0:\n",
    "            ww = copy.deepcopy(L[i, 0:i])\n",
    "            L[i, 0:i] = L[i_max, 0:i]\n",
    "            L[i_max, 0:i] = ww\n",
    "        for j in range(i, n):\n",
    "            L[j, i] = AA[j, i] / AA[i, i]\n",
    "            U[i, j] = AA[i, j]\n",
    "        for j in range(i+1, n):\n",
    "            for k in range(i+1, n):\n",
    "                AA[j, k] -= L[j, i] * U[i, k]\n",
    "    L[n-1, n-1] = 1\n",
    "    U[n-1, n-1] = AA[n-1, n-1]\n",
    "    return P, L, U"
   ]
  },
  {
   "cell_type": "code",
   "execution_count": 159,
   "id": "95d47c31",
   "metadata": {},
   "outputs": [],
   "source": [
    "def linear_solve_lu_row_pivoting(A, b):\n",
    "    \"\"\"\n",
    "    Linear solver using LU decomposition with row pivoting\n",
    "    input: A, b\n",
    "    output: x\n",
    "    \"\"\"\n",
    "    P, L, U = lu_row_pivoting(A)\n",
    "    y = func.forward_subset(L, P@b)\n",
    "    x = func.backward_subset(U, y)\n",
    "    return x"
   ]
  },
  {
   "cell_type": "code",
   "execution_count": 138,
   "id": "04716ee3",
   "metadata": {},
   "outputs": [],
   "source": [
    "A = np.array([\n",
    "    [2,-1,0,1],\n",
    "    [-2,0,1,-1],\n",
    "    [4,-1,0,1],\n",
    "    [4,-3,0,2]\n",
    "])"
   ]
  },
  {
   "cell_type": "code",
   "execution_count": 134,
   "id": "a441ea57",
   "metadata": {},
   "outputs": [],
   "source": [
    "A = np.array([\n",
    "    [1,2,-7,-1.5,2],\n",
    "    [4,4,0,-6,-2],\n",
    "    [-2,-1,2,6,2.5],\n",
    "    [0,-2,2,-4,1],\n",
    "    [2,1,13,-5,3.5]\n",
    "])"
   ]
  },
  {
   "cell_type": "code",
   "execution_count": 186,
   "id": "b79b585b",
   "metadata": {},
   "outputs": [],
   "source": [
    "A = np.array([\n",
    "    [2,1,1],\n",
    "    [4,1,0],\n",
    "    [-2,2,1]\n",
    "])"
   ]
  },
  {
   "cell_type": "code",
   "execution_count": 187,
   "id": "f8ea0f15",
   "metadata": {},
   "outputs": [],
   "source": [
    "P,L,U=lu_row_pivoting(A)"
   ]
  },
  {
   "cell_type": "code",
   "execution_count": 188,
   "id": "3032d1ee",
   "metadata": {},
   "outputs": [
    {
     "data": {
      "text/plain": [
       "array([[ 1.,  0.,  0.],\n",
       "       [ 2.,  1.,  0.],\n",
       "       [-1., -3.,  1.]])"
      ]
     },
     "execution_count": 188,
     "metadata": {},
     "output_type": "execute_result"
    }
   ],
   "source": [
    "L"
   ]
  },
  {
   "cell_type": "code",
   "execution_count": 176,
   "id": "b3e85fdc",
   "metadata": {},
   "outputs": [
    {
     "data": {
      "text/plain": [
       "array([[ True,  True,  True],\n",
       "       [ True, False,  True],\n",
       "       [ True, False,  True]])"
      ]
     },
     "execution_count": 176,
     "metadata": {},
     "output_type": "execute_result"
    }
   ],
   "source": [
    "P@A==L@U"
   ]
  },
  {
   "cell_type": "code",
   "execution_count": 173,
   "id": "0a01c90d",
   "metadata": {},
   "outputs": [
    {
     "data": {
      "text/plain": [
       "[np.float64(0.991637),\n",
       " np.float64(0.975654),\n",
       " np.float64(0.957541),\n",
       " np.float64(0.95185)]"
      ]
     },
     "execution_count": 173,
     "metadata": {},
     "output_type": "execute_result"
    }
   ],
   "source": [
    "A = np.array([\n",
    "    [2,102,0,0],\n",
    "    [5,0,105,0],\n",
    "    [1.5,1.5,1.5,101.5],\n",
    "    [0,6,0,106]\n",
    "])\n",
    "\n",
    "b = np.array(\n",
    "    [101.5,105.5,101,106.75]\n",
    ")\n",
    "linear_solve_lu_row_pivoting(A,b)"
   ]
  },
  {
   "cell_type": "code",
   "execution_count": 149,
   "id": "4161c1d5",
   "metadata": {},
   "outputs": [],
   "source": [
    "AA = copy.deepcopy(A)\n",
    "n = AA.shape[0]\n",
    "# initialize\n",
    "P, L = np.eye(n), np.eye(n)\n",
    "U = np.eye(n)"
   ]
  },
  {
   "cell_type": "code",
   "execution_count": 152,
   "id": "b6efb94b",
   "metadata": {},
   "outputs": [],
   "source": [
    "i=1\n",
    "i_max = np.argmax(np.abs(AA[i:n, i])) + i\n",
    "# switch rows i and i_max of A\n",
    "vv = copy.deepcopy(AA[i, i:n])\n",
    "AA[i, i:n] = AA[i_max, i:n]\n",
    "AA[i_max, i:n] = vv\n",
    "# update matrix P\n",
    "cc = copy.deepcopy(P[i])\n",
    "P[i] = P[i_max]\n",
    "P[i_max] = cc\n",
    "if i > 0:\n",
    "    ww = copy.deepcopy(L[i, 0:i])\n",
    "    L[i, 0:i] = L[i_max, 0:i]\n",
    "    L[i_max, 0:i] = ww\n",
    "for j in range(i, n):\n",
    "    L[j, i] = AA[j, i] / AA[i, i]\n",
    "    U[i, j] = AA[i, j]\n",
    "for j in range(i+1, n):\n",
    "    for k in range(i+1, n):\n",
    "        AA[j, k] -= L[j, i] * U[i, k]"
   ]
  },
  {
   "cell_type": "code",
   "execution_count": 157,
   "id": "61b804d0",
   "metadata": {},
   "outputs": [
    {
     "data": {
      "text/plain": [
       "array([[ 4,  0,  1],\n",
       "       [-2,  1,  3],\n",
       "       [ 2, -1,  3]])"
      ]
     },
     "execution_count": 157,
     "metadata": {},
     "output_type": "execute_result"
    }
   ],
   "source": [
    "AA"
   ]
  },
  {
   "cell_type": "code",
   "execution_count": 189,
   "id": "7a333885",
   "metadata": {},
   "outputs": [
    {
     "data": {
      "text/plain": [
       "array([[10600, 11000,  9000,  9400]])"
      ]
     },
     "execution_count": 189,
     "metadata": {},
     "output_type": "execute_result"
    }
   ],
   "source": [
    "theta = np.array([\n",
    "    [5000,400,-100]\n",
    "])\n",
    "B = np.array([\n",
    "    [1,1,1,1],\n",
    "    [22,22,18,18],\n",
    "    [32,28,32,28]\n",
    "])\n",
    "theta@B"
   ]
  },
  {
   "cell_type": "code",
   "execution_count": null,
   "id": "e1fc7d4f",
   "metadata": {},
   "outputs": [],
   "source": []
  }
 ],
 "metadata": {
  "kernelspec": {
   "display_name": "base",
   "language": "python",
   "name": "python3"
  },
  "language_info": {
   "codemirror_mode": {
    "name": "ipython",
    "version": 3
   },
   "file_extension": ".py",
   "mimetype": "text/x-python",
   "name": "python",
   "nbconvert_exporter": "python",
   "pygments_lexer": "ipython3",
   "version": "3.12.2"
  }
 },
 "nbformat": 4,
 "nbformat_minor": 5
}
